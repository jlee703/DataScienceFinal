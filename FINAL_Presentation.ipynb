{
  "nbformat": 4,
  "nbformat_minor": 0,
  "metadata": {
    "colab": {
      "name": "FINAL Presentation",
      "provenance": [],
      "authorship_tag": "ABX9TyM6BwxQtm9uWgW8fQqpp5mK",
      "include_colab_link": true
    },
    "kernelspec": {
      "name": "python3",
      "display_name": "Python 3"
    }
  },
  "cells": [
    {
      "cell_type": "markdown",
      "metadata": {
        "id": "view-in-github",
        "colab_type": "text"
      },
      "source": [
        "<a href=\"https://colab.research.google.com/github/jlee703/DataScienceFinal/blob/main/FINAL_Presentation.ipynb\" target=\"_parent\"><img src=\"https://colab.research.google.com/assets/colab-badge.svg\" alt=\"Open In Colab\"/></a>"
      ]
    },
    {
      "cell_type": "markdown",
      "metadata": {
        "id": "Id26pFVcGNJm"
      },
      "source": [
        "**Research question: Do certain anime genres cause more polarization among MyAnimeList (online anime community and databse) users? By polarization I mean contrasts between different users' opinions.**"
      ]
    },
    {
      "cell_type": "code",
      "metadata": {
        "id": "rlX_p_lnCTSv",
        "colab": {
          "base_uri": "https://localhost:8080/",
          "height": 666
        },
        "outputId": "cbc2b967-62b2-496d-f962-642cb7d928d0"
      },
      "source": [
        "#repeat code\n",
        "import pandas as pd\n",
        "import requests\n",
        "import json\n",
        "import time\n",
        "\n",
        "data_anime = []\n",
        "\n",
        "for x in range(1, 10):\n",
        "  response = requests.get(\"https://api.jikan.moe/v3/top/anime/\" + str(x))\n",
        "  data_anime.append(response.json())\n",
        "\n",
        "top500 = []\n",
        "\n",
        "for x in range(0, len(data_anime)):\n",
        "  for y in range(0, len(data_anime[x][\"top\"])):\n",
        "    top500.append(data_anime[x][\"top\"][y]['mal_id'])\n",
        "\n",
        "data_top500 = []\n",
        "\n",
        "for x in range(len(top500)):\n",
        "  response = requests.get(\"https://api.jikan.moe/v3/anime/\" + str(top500[x]))\n",
        "  data_top500.append(response.json())\n",
        "\n",
        "from pandas.io.json import json_normalize\n",
        "\n",
        "df_data = json_normalize(data_top500)\n",
        "df_data.head()"
      ],
      "execution_count": null,
      "outputs": [
        {
          "output_type": "execute_result",
          "data": {
            "text/html": [
              "<div>\n",
              "<style scoped>\n",
              "    .dataframe tbody tr th:only-of-type {\n",
              "        vertical-align: middle;\n",
              "    }\n",
              "\n",
              "    .dataframe tbody tr th {\n",
              "        vertical-align: top;\n",
              "    }\n",
              "\n",
              "    .dataframe thead th {\n",
              "        text-align: right;\n",
              "    }\n",
              "</style>\n",
              "<table border=\"1\" class=\"dataframe\">\n",
              "  <thead>\n",
              "    <tr style=\"text-align: right;\">\n",
              "      <th></th>\n",
              "      <th>request_hash</th>\n",
              "      <th>request_cached</th>\n",
              "      <th>request_cache_expiry</th>\n",
              "      <th>mal_id</th>\n",
              "      <th>url</th>\n",
              "      <th>image_url</th>\n",
              "      <th>trailer_url</th>\n",
              "      <th>title</th>\n",
              "      <th>title_english</th>\n",
              "      <th>title_japanese</th>\n",
              "      <th>title_synonyms</th>\n",
              "      <th>type</th>\n",
              "      <th>source</th>\n",
              "      <th>episodes</th>\n",
              "      <th>status</th>\n",
              "      <th>airing</th>\n",
              "      <th>duration</th>\n",
              "      <th>rating</th>\n",
              "      <th>score</th>\n",
              "      <th>scored_by</th>\n",
              "      <th>rank</th>\n",
              "      <th>popularity</th>\n",
              "      <th>members</th>\n",
              "      <th>favorites</th>\n",
              "      <th>synopsis</th>\n",
              "      <th>background</th>\n",
              "      <th>premiered</th>\n",
              "      <th>broadcast</th>\n",
              "      <th>producers</th>\n",
              "      <th>licensors</th>\n",
              "      <th>studios</th>\n",
              "      <th>genres</th>\n",
              "      <th>opening_themes</th>\n",
              "      <th>ending_themes</th>\n",
              "      <th>aired.from</th>\n",
              "      <th>aired.to</th>\n",
              "      <th>aired.prop.from.day</th>\n",
              "      <th>aired.prop.from.month</th>\n",
              "      <th>aired.prop.from.year</th>\n",
              "      <th>aired.prop.to.day</th>\n",
              "      <th>aired.prop.to.month</th>\n",
              "      <th>aired.prop.to.year</th>\n",
              "      <th>aired.string</th>\n",
              "      <th>related.Adaptation</th>\n",
              "      <th>related.Alternative version</th>\n",
              "      <th>related.Side story</th>\n",
              "      <th>related.Spin-off</th>\n",
              "      <th>related.Prequel</th>\n",
              "      <th>related.Sequel</th>\n",
              "      <th>related.Alternative setting</th>\n",
              "      <th>related.Other</th>\n",
              "      <th>related.Character</th>\n",
              "      <th>related.Parent story</th>\n",
              "      <th>related.Summary</th>\n",
              "      <th>related.Full story</th>\n",
              "    </tr>\n",
              "  </thead>\n",
              "  <tbody>\n",
              "    <tr>\n",
              "      <th>0</th>\n",
              "      <td>request:anime:704c9a8ba55a2888accf1b2b89d9d6a2...</td>\n",
              "      <td>True</td>\n",
              "      <td>22478</td>\n",
              "      <td>5114</td>\n",
              "      <td>https://myanimelist.net/anime/5114/Fullmetal_A...</td>\n",
              "      <td>https://cdn.myanimelist.net/images/anime/1223/...</td>\n",
              "      <td>https://www.youtube.com/embed/--IcmZkvL0Q?enab...</td>\n",
              "      <td>Fullmetal Alchemist: Brotherhood</td>\n",
              "      <td>Fullmetal Alchemist: Brotherhood</td>\n",
              "      <td>鋼の錬金術師 FULLMETAL ALCHEMIST</td>\n",
              "      <td>[Hagane no Renkinjutsushi: Fullmetal Alchemist...</td>\n",
              "      <td>TV</td>\n",
              "      <td>Manga</td>\n",
              "      <td>64.0</td>\n",
              "      <td>Finished Airing</td>\n",
              "      <td>False</td>\n",
              "      <td>24 min per ep</td>\n",
              "      <td>R - 17+ (violence &amp; profanity)</td>\n",
              "      <td>9.23</td>\n",
              "      <td>1026080</td>\n",
              "      <td>1</td>\n",
              "      <td>4</td>\n",
              "      <td>1685243</td>\n",
              "      <td>145465</td>\n",
              "      <td>\"In order for something to be obtained, someth...</td>\n",
              "      <td>Fullmetal Alchemist: Brotherhood is an alterna...</td>\n",
              "      <td>Spring 2009</td>\n",
              "      <td>Sundays at 17:00 (JST)</td>\n",
              "      <td>[{'mal_id': 17, 'type': 'anime', 'name': 'Anip...</td>\n",
              "      <td>[{'mal_id': 102, 'type': 'anime', 'name': 'Fun...</td>\n",
              "      <td>[{'mal_id': 4, 'type': 'anime', 'name': 'Bones...</td>\n",
              "      <td>[{'mal_id': 1, 'type': 'anime', 'name': 'Actio...</td>\n",
              "      <td>[\"again\" by YUI (eps 1-14), \"Hologram (ホログラム)\"...</td>\n",
              "      <td>[\"Uso (嘘)\" by SID (eps 1-14), \"LET IT OUT\" by ...</td>\n",
              "      <td>2009-04-05T00:00:00+00:00</td>\n",
              "      <td>2010-07-04T00:00:00+00:00</td>\n",
              "      <td>5</td>\n",
              "      <td>4</td>\n",
              "      <td>2009</td>\n",
              "      <td>4.0</td>\n",
              "      <td>7.0</td>\n",
              "      <td>2010.0</td>\n",
              "      <td>Apr 5, 2009 to Jul 4, 2010</td>\n",
              "      <td>[{'mal_id': 25, 'type': 'manga', 'name': 'Full...</td>\n",
              "      <td>[{'mal_id': 121, 'type': 'anime', 'name': 'Ful...</td>\n",
              "      <td>[{'mal_id': 6421, 'type': 'anime', 'name': 'Fu...</td>\n",
              "      <td>[{'mal_id': 7902, 'type': 'anime', 'name': 'Fu...</td>\n",
              "      <td>NaN</td>\n",
              "      <td>NaN</td>\n",
              "      <td>NaN</td>\n",
              "      <td>NaN</td>\n",
              "      <td>NaN</td>\n",
              "      <td>NaN</td>\n",
              "      <td>NaN</td>\n",
              "      <td>NaN</td>\n",
              "    </tr>\n",
              "    <tr>\n",
              "      <th>1</th>\n",
              "      <td>request:anime:5d5d7b307b2951f5792481b68813ac34...</td>\n",
              "      <td>True</td>\n",
              "      <td>86400</td>\n",
              "      <td>28977</td>\n",
              "      <td>https://myanimelist.net/anime/28977/Gintama°</td>\n",
              "      <td>https://cdn.myanimelist.net/images/anime/3/720...</td>\n",
              "      <td>None</td>\n",
              "      <td>Gintama°</td>\n",
              "      <td>Gintama Season 4</td>\n",
              "      <td>銀魂°</td>\n",
              "      <td>[Gintama' (2015)]</td>\n",
              "      <td>TV</td>\n",
              "      <td>Manga</td>\n",
              "      <td>51.0</td>\n",
              "      <td>Finished Airing</td>\n",
              "      <td>False</td>\n",
              "      <td>24 min per ep</td>\n",
              "      <td>PG-13 - Teens 13 or older</td>\n",
              "      <td>9.13</td>\n",
              "      <td>104376</td>\n",
              "      <td>2</td>\n",
              "      <td>343</td>\n",
              "      <td>294242</td>\n",
              "      <td>7949</td>\n",
              "      <td>Gintoki, Shinpachi, and Kagura return as the f...</td>\n",
              "      <td>This is a fourth season of Gintama. In the epi...</td>\n",
              "      <td>Spring 2015</td>\n",
              "      <td>Wednesdays at 18:00 (JST)</td>\n",
              "      <td>[{'mal_id': 16, 'type': 'anime', 'name': 'TV T...</td>\n",
              "      <td>[{'mal_id': 102, 'type': 'anime', 'name': 'Fun...</td>\n",
              "      <td>[{'mal_id': 1258, 'type': 'anime', 'name': 'Ba...</td>\n",
              "      <td>[{'mal_id': 1, 'type': 'anime', 'name': 'Actio...</td>\n",
              "      <td>[\"DAY×DAY\" by BLUE ENCOUNT (eps 1-12), \"Pride ...</td>\n",
              "      <td>[\"DESTINY\" by Negoto (eps 1-12), \"Saigo made I...</td>\n",
              "      <td>2015-04-08T00:00:00+00:00</td>\n",
              "      <td>2016-03-30T00:00:00+00:00</td>\n",
              "      <td>8</td>\n",
              "      <td>4</td>\n",
              "      <td>2015</td>\n",
              "      <td>30.0</td>\n",
              "      <td>3.0</td>\n",
              "      <td>2016.0</td>\n",
              "      <td>Apr 8, 2015 to Mar 30, 2016</td>\n",
              "      <td>[{'mal_id': 44, 'type': 'manga', 'name': 'Gint...</td>\n",
              "      <td>NaN</td>\n",
              "      <td>[{'mal_id': 32122, 'type': 'anime', 'name': 'G...</td>\n",
              "      <td>NaN</td>\n",
              "      <td>[{'mal_id': 15335, 'type': 'anime', 'name': 'G...</td>\n",
              "      <td>[{'mal_id': 34096, 'type': 'anime', 'name': 'G...</td>\n",
              "      <td>NaN</td>\n",
              "      <td>NaN</td>\n",
              "      <td>NaN</td>\n",
              "      <td>NaN</td>\n",
              "      <td>NaN</td>\n",
              "      <td>NaN</td>\n",
              "    </tr>\n",
              "    <tr>\n",
              "      <th>2</th>\n",
              "      <td>request:anime:0bbd7177b3209910d7cd2da3493a8f83...</td>\n",
              "      <td>True</td>\n",
              "      <td>81015</td>\n",
              "      <td>9253</td>\n",
              "      <td>https://myanimelist.net/anime/9253/Steins_Gate</td>\n",
              "      <td>https://cdn.myanimelist.net/images/anime/5/731...</td>\n",
              "      <td>https://www.youtube.com/embed/27OZc-ku6is?enab...</td>\n",
              "      <td>Steins;Gate</td>\n",
              "      <td>Steins;Gate</td>\n",
              "      <td>STEINS;GATE</td>\n",
              "      <td>[]</td>\n",
              "      <td>TV</td>\n",
              "      <td>Visual novel</td>\n",
              "      <td>24.0</td>\n",
              "      <td>Finished Airing</td>\n",
              "      <td>False</td>\n",
              "      <td>24 min per ep</td>\n",
              "      <td>PG-13 - Teens 13 or older</td>\n",
              "      <td>9.13</td>\n",
              "      <td>758311</td>\n",
              "      <td>3</td>\n",
              "      <td>7</td>\n",
              "      <td>1382318</td>\n",
              "      <td>122022</td>\n",
              "      <td>The self-proclaimed mad scientist Rintarou Oka...</td>\n",
              "      <td>Steins;Gate is based on 5pb. and Nitroplus' .</td>\n",
              "      <td>Spring 2011</td>\n",
              "      <td>Wednesdays at 02:05 (JST)</td>\n",
              "      <td>[{'mal_id': 61, 'type': 'anime', 'name': 'Fron...</td>\n",
              "      <td>[{'mal_id': 102, 'type': 'anime', 'name': 'Fun...</td>\n",
              "      <td>[{'mal_id': 314, 'type': 'anime', 'name': 'Whi...</td>\n",
              "      <td>[{'mal_id': 41, 'type': 'anime', 'name': 'Thri...</td>\n",
              "      <td>[\"Hacking to the Gate\" by Kanako Itou]</td>\n",
              "      <td>[\"Toki Tsukasadoru Juuni no Meiyaku (刻司ル十二ノ盟約)...</td>\n",
              "      <td>2011-04-06T00:00:00+00:00</td>\n",
              "      <td>2011-09-14T00:00:00+00:00</td>\n",
              "      <td>6</td>\n",
              "      <td>4</td>\n",
              "      <td>2011</td>\n",
              "      <td>14.0</td>\n",
              "      <td>9.0</td>\n",
              "      <td>2011.0</td>\n",
              "      <td>Apr 6, 2011 to Sep 14, 2011</td>\n",
              "      <td>[{'mal_id': 17517, 'type': 'manga', 'name': 'S...</td>\n",
              "      <td>[{'mal_id': 32188, 'type': 'anime', 'name': 'S...</td>\n",
              "      <td>NaN</td>\n",
              "      <td>NaN</td>\n",
              "      <td>NaN</td>\n",
              "      <td>[{'mal_id': 10863, 'type': 'anime', 'name': 'S...</td>\n",
              "      <td>[{'mal_id': 4975, 'type': 'anime', 'name': 'Ch...</td>\n",
              "      <td>[{'mal_id': 27957, 'type': 'anime', 'name': 'S...</td>\n",
              "      <td>NaN</td>\n",
              "      <td>NaN</td>\n",
              "      <td>NaN</td>\n",
              "      <td>NaN</td>\n",
              "    </tr>\n",
              "    <tr>\n",
              "      <th>3</th>\n",
              "      <td>request:anime:e09f711f9e532dc4ffb4d5649b5dbd6e...</td>\n",
              "      <td>True</td>\n",
              "      <td>65529</td>\n",
              "      <td>11061</td>\n",
              "      <td>https://myanimelist.net/anime/11061/Hunter_x_H...</td>\n",
              "      <td>https://cdn.myanimelist.net/images/anime/11/33...</td>\n",
              "      <td>https://www.youtube.com/embed/D9iTQRB4XRk?enab...</td>\n",
              "      <td>Hunter x Hunter (2011)</td>\n",
              "      <td>Hunter x Hunter</td>\n",
              "      <td>HUNTER×HUNTER（ハンター×ハンター）</td>\n",
              "      <td>[HxH (2011)]</td>\n",
              "      <td>TV</td>\n",
              "      <td>Manga</td>\n",
              "      <td>148.0</td>\n",
              "      <td>Finished Airing</td>\n",
              "      <td>False</td>\n",
              "      <td>23 min per ep</td>\n",
              "      <td>PG-13 - Teens 13 or older</td>\n",
              "      <td>9.12</td>\n",
              "      <td>624654</td>\n",
              "      <td>4</td>\n",
              "      <td>19</td>\n",
              "      <td>1110972</td>\n",
              "      <td>100150</td>\n",
              "      <td>Hunter x Hunter is set in a world where Hunter...</td>\n",
              "      <td>None</td>\n",
              "      <td>Fall 2011</td>\n",
              "      <td>Sundays at 10:55 (JST)</td>\n",
              "      <td>[{'mal_id': 29, 'type': 'anime', 'name': 'VAP'...</td>\n",
              "      <td>[{'mal_id': 119, 'type': 'anime', 'name': 'Viz...</td>\n",
              "      <td>[{'mal_id': 11, 'type': 'anime', 'name': 'Madh...</td>\n",
              "      <td>[{'mal_id': 1, 'type': 'anime', 'name': 'Actio...</td>\n",
              "      <td>[\"departure!\" by Ono Masatoshi (eps 1-26, 50-5...</td>\n",
              "      <td>[\"Just Awake\" by Fear, and Loathing in Las Veg...</td>\n",
              "      <td>2011-10-02T00:00:00+00:00</td>\n",
              "      <td>2014-09-24T00:00:00+00:00</td>\n",
              "      <td>2</td>\n",
              "      <td>10</td>\n",
              "      <td>2011</td>\n",
              "      <td>24.0</td>\n",
              "      <td>9.0</td>\n",
              "      <td>2014.0</td>\n",
              "      <td>Oct 2, 2011 to Sep 24, 2014</td>\n",
              "      <td>[{'mal_id': 26, 'type': 'manga', 'name': 'Hunt...</td>\n",
              "      <td>[{'mal_id': 136, 'type': 'anime', 'name': 'Hun...</td>\n",
              "      <td>[{'mal_id': 13271, 'type': 'anime', 'name': 'H...</td>\n",
              "      <td>NaN</td>\n",
              "      <td>NaN</td>\n",
              "      <td>NaN</td>\n",
              "      <td>NaN</td>\n",
              "      <td>NaN</td>\n",
              "      <td>NaN</td>\n",
              "      <td>NaN</td>\n",
              "      <td>NaN</td>\n",
              "      <td>NaN</td>\n",
              "    </tr>\n",
              "    <tr>\n",
              "      <th>4</th>\n",
              "      <td>request:anime:dc3201e16fe9eca4aad42bb504172ca1...</td>\n",
              "      <td>False</td>\n",
              "      <td>86400</td>\n",
              "      <td>820</td>\n",
              "      <td>https://myanimelist.net/anime/820/Ginga_Eiyuu_...</td>\n",
              "      <td>https://cdn.myanimelist.net/images/anime/13/13...</td>\n",
              "      <td>https://www.youtube.com/embed/G7grjXe2Eyo?enab...</td>\n",
              "      <td>Ginga Eiyuu Densetsu</td>\n",
              "      <td>Legend of the Galactic Heroes</td>\n",
              "      <td>銀河英雄伝説</td>\n",
              "      <td>[LoGH, LotGH, Gin'eiden, GinEiDen, Heldensagen...</td>\n",
              "      <td>OVA</td>\n",
              "      <td>Novel</td>\n",
              "      <td>110.0</td>\n",
              "      <td>Finished Airing</td>\n",
              "      <td>False</td>\n",
              "      <td>26 min per ep</td>\n",
              "      <td>R - 17+ (violence &amp; profanity)</td>\n",
              "      <td>9.11</td>\n",
              "      <td>41354</td>\n",
              "      <td>5</td>\n",
              "      <td>617</td>\n",
              "      <td>182031</td>\n",
              "      <td>11557</td>\n",
              "      <td>The 150-year-long stalemate between the two in...</td>\n",
              "      <td>Legend of the Galactic Heroes was adapted from...</td>\n",
              "      <td>None</td>\n",
              "      <td>None</td>\n",
              "      <td>[{'mal_id': 99, 'type': 'anime', 'name': 'Kitt...</td>\n",
              "      <td>[{'mal_id': 376, 'type': 'anime', 'name': 'Sen...</td>\n",
              "      <td>[{'mal_id': 8, 'type': 'anime', 'name': 'Artla...</td>\n",
              "      <td>[{'mal_id': 38, 'type': 'anime', 'name': 'Mili...</td>\n",
              "      <td>[\"Skies of Love\" by Michiru Akiyoshi (eps 1-22...</td>\n",
              "      <td>[\"Hikari no Hashi wo koete\" by Kei Ogura (eps ...</td>\n",
              "      <td>1988-01-08T00:00:00+00:00</td>\n",
              "      <td>1997-03-17T00:00:00+00:00</td>\n",
              "      <td>8</td>\n",
              "      <td>1</td>\n",
              "      <td>1988</td>\n",
              "      <td>17.0</td>\n",
              "      <td>3.0</td>\n",
              "      <td>1997.0</td>\n",
              "      <td>Jan 8, 1988 to Mar 17, 1997</td>\n",
              "      <td>[{'mal_id': 6978, 'type': 'manga', 'name': 'Gi...</td>\n",
              "      <td>[{'mal_id': 31433, 'type': 'anime', 'name': 'G...</td>\n",
              "      <td>[{'mal_id': 3371, 'type': 'anime', 'name': 'Gi...</td>\n",
              "      <td>NaN</td>\n",
              "      <td>[{'mal_id': 3016, 'type': 'anime', 'name': 'Gi...</td>\n",
              "      <td>NaN</td>\n",
              "      <td>NaN</td>\n",
              "      <td>NaN</td>\n",
              "      <td>NaN</td>\n",
              "      <td>NaN</td>\n",
              "      <td>NaN</td>\n",
              "      <td>NaN</td>\n",
              "    </tr>\n",
              "  </tbody>\n",
              "</table>\n",
              "</div>"
            ],
            "text/plain": [
              "                                        request_hash  ...  related.Full story\n",
              "0  request:anime:704c9a8ba55a2888accf1b2b89d9d6a2...  ...                 NaN\n",
              "1  request:anime:5d5d7b307b2951f5792481b68813ac34...  ...                 NaN\n",
              "2  request:anime:0bbd7177b3209910d7cd2da3493a8f83...  ...                 NaN\n",
              "3  request:anime:e09f711f9e532dc4ffb4d5649b5dbd6e...  ...                 NaN\n",
              "4  request:anime:dc3201e16fe9eca4aad42bb504172ca1...  ...                 NaN\n",
              "\n",
              "[5 rows x 55 columns]"
            ]
          },
          "metadata": {
            "tags": []
          },
          "execution_count": 1
        }
      ]
    },
    {
      "cell_type": "markdown",
      "metadata": {
        "id": "39Da7wFs3jkN"
      },
      "source": [
        "The first thing I did was read in the top 450 anime. Each row is an anime, each column is a feature of the anime. (same dataframe from the data cleaning notebook)"
      ]
    },
    {
      "cell_type": "markdown",
      "metadata": {
        "id": "8DysME9hC3pa"
      },
      "source": [
        "Working with reviews"
      ]
    },
    {
      "cell_type": "markdown",
      "metadata": {
        "id": "-cHnR9tCJV--"
      },
      "source": [
        "**The method I used to determine polarity was to make a dictionary of genres each with \"polar votes.\" Polar votes are a made up unit of measurement that I gave to genres for being a:**\n",
        "\n",
        "---\n",
        "\n",
        "Part 1\n",
        "*   Top five genres with the most helpful votes on top 4 ratings with a score of 1\n",
        "*   Top five genres with the most helpful votes on top 4 ratings with a score of 2\n",
        "*   Top five genres with the most helpful votes on top 4 ratings with a score of 3\n",
        "*   Top five genres with the most helpful votes on top 4 ratings with a score of 4\n",
        "*   Top five genres with the most helpful votes on top 4 ratings with a score of 5\n",
        "\n",
        "---\n",
        "\n",
        "Part 2\n",
        "*   Top five genres with the highest percentage of users giving a score of 1\n",
        "*   Top five genres with the highest percentage of users giving a score of 2\n",
        "*   Top five genres with the highest percentage of users giving a score of 3\n",
        "*   Top five genres with the highest percentage of users giving a score of 4\n",
        "*   Top five genres with the highest percentage of users giving a score of 5\n",
        "\n",
        "---\n",
        "\n",
        "Part 3\n",
        "*   Top five genres with the highest percentage of top 4 reviews giving scores 1-5 \n",
        "\n",
        "---\n",
        "\n",
        "Part 4\n",
        "*   Top five genres with the highest percentage of users giving scores that deviate from the mean scores"
      ]
    },
    {
      "cell_type": "markdown",
      "metadata": {
        "id": "TGaZBqWcQVQC"
      },
      "source": [
        "**Part 1**"
      ]
    },
    {
      "cell_type": "code",
      "metadata": {
        "id": "BuVQNg4Vzcdu",
        "colab": {
          "base_uri": "https://localhost:8080/",
          "height": 204
        },
        "outputId": "041de895-9550-487e-da01-d7be80a9fa4d"
      },
      "source": [
        "# get the top 20 reviews for each of the top 500 anime\n",
        "data_top500 = []\n",
        "\n",
        "for x in range(len(top500)):\n",
        "  response = requests.get(\"https://api.jikan.moe/v3/anime/\" + str(top500[x]) + '/reviews')\n",
        "  data_top500.append(response.json())\n",
        "\n",
        "df_reviews = json_normalize(data_top500)"
      ],
      "execution_count": null,
      "outputs": [
        {
          "output_type": "execute_result",
          "data": {
            "text/html": [
              "<div>\n",
              "<style scoped>\n",
              "    .dataframe tbody tr th:only-of-type {\n",
              "        vertical-align: middle;\n",
              "    }\n",
              "\n",
              "    .dataframe tbody tr th {\n",
              "        vertical-align: top;\n",
              "    }\n",
              "\n",
              "    .dataframe thead th {\n",
              "        text-align: right;\n",
              "    }\n",
              "</style>\n",
              "<table border=\"1\" class=\"dataframe\">\n",
              "  <thead>\n",
              "    <tr style=\"text-align: right;\">\n",
              "      <th></th>\n",
              "      <th>request_hash</th>\n",
              "      <th>request_cached</th>\n",
              "      <th>request_cache_expiry</th>\n",
              "      <th>reviews</th>\n",
              "    </tr>\n",
              "  </thead>\n",
              "  <tbody>\n",
              "    <tr>\n",
              "      <th>0</th>\n",
              "      <td>request:anime:908c0194ac19b1037a6b3a9afbdcf5cc...</td>\n",
              "      <td>True</td>\n",
              "      <td>86400</td>\n",
              "      <td>[{'mal_id': 22681, 'url': 'https://myanimelist...</td>\n",
              "    </tr>\n",
              "    <tr>\n",
              "      <th>1</th>\n",
              "      <td>request:anime:cffceab07004ce97594dbe504688b15c...</td>\n",
              "      <td>True</td>\n",
              "      <td>86400</td>\n",
              "      <td>[{'mal_id': 214772, 'url': 'https://myanimelis...</td>\n",
              "    </tr>\n",
              "    <tr>\n",
              "      <th>2</th>\n",
              "      <td>request:anime:f5c04cb7c9435e5f44323e20d9de8b67...</td>\n",
              "      <td>True</td>\n",
              "      <td>24454</td>\n",
              "      <td>[{'mal_id': 43359, 'url': 'https://myanimelist...</td>\n",
              "    </tr>\n",
              "    <tr>\n",
              "      <th>3</th>\n",
              "      <td>request:anime:6110bf3b42bbbe4423f922bc97b940ef...</td>\n",
              "      <td>True</td>\n",
              "      <td>13953</td>\n",
              "      <td>[{'mal_id': 163333, 'url': 'https://myanimelis...</td>\n",
              "    </tr>\n",
              "    <tr>\n",
              "      <th>4</th>\n",
              "      <td>request:anime:e4cd0a46f646b6c5e54034e59fee1cc3...</td>\n",
              "      <td>True</td>\n",
              "      <td>86400</td>\n",
              "      <td>[{'mal_id': 5048, 'url': 'https://myanimelist....</td>\n",
              "    </tr>\n",
              "  </tbody>\n",
              "</table>\n",
              "</div>"
            ],
            "text/plain": [
              "                                        request_hash  ...                                            reviews\n",
              "0  request:anime:908c0194ac19b1037a6b3a9afbdcf5cc...  ...  [{'mal_id': 22681, 'url': 'https://myanimelist...\n",
              "1  request:anime:cffceab07004ce97594dbe504688b15c...  ...  [{'mal_id': 214772, 'url': 'https://myanimelis...\n",
              "2  request:anime:f5c04cb7c9435e5f44323e20d9de8b67...  ...  [{'mal_id': 43359, 'url': 'https://myanimelist...\n",
              "3  request:anime:6110bf3b42bbbe4423f922bc97b940ef...  ...  [{'mal_id': 163333, 'url': 'https://myanimelis...\n",
              "4  request:anime:e4cd0a46f646b6c5e54034e59fee1cc3...  ...  [{'mal_id': 5048, 'url': 'https://myanimelist....\n",
              "\n",
              "[5 rows x 4 columns]"
            ]
          },
          "metadata": {
            "tags": []
          },
          "execution_count": 3
        }
      ]
    },
    {
      "cell_type": "markdown",
      "metadata": {
        "id": "279AmH7HwRbI"
      },
      "source": [
        "**Each top anime has user written reviews, which include a score, date, content, and more. Each review has a \"helpful count\" which is the number of users that have essentially voted for the review.**"
      ]
    },
    {
      "cell_type": "markdown",
      "metadata": {
        "id": "cqC4t3i662YK"
      },
      "source": [
        "Higher voted reviews are moved to the top of the review board. This feature was my main inspiration for the research question, because you will often find very low reviews with a high number of helpful votes. I mostly think it is because of people trying to be different from the norm or hate on something popular, but I don't think there is one direct cause, rather a number of different factors. I read in the top 20 (or as many reviews as there was if less than 20) for each of the top 450 anime."
      ]
    },
    {
      "cell_type": "code",
      "metadata": {
        "id": "PAuPu0grw0CG"
      },
      "source": [
        "import numpy as np\n",
        "\n",
        "df_reviews_genres = pd.DataFrame()\n",
        "\n",
        "for x in range(0, len(df_data)):\n",
        "  for y in range(0, len(df_data['genres'][x])):\n",
        "    df_reviews_genres.insert(x, str(df_data['genres'][x][y]['name']), df_reviews.loc[x], allow_duplicates=True)\n",
        "\n",
        "df_reviews_genres = df_reviews_genres.transpose()"
      ],
      "execution_count": null,
      "outputs": []
    },
    {
      "cell_type": "markdown",
      "metadata": {
        "id": "S8crxvam4AgI"
      },
      "source": [
        "Each row is a genre with a corresponding show, the column \"reviews\" is the list of corresponding reviews for that show. "
      ]
    },
    {
      "cell_type": "code",
      "metadata": {
        "id": "ofmb4V4cnwho",
        "colab": {
          "base_uri": "https://localhost:8080/",
          "height": 192
        },
        "outputId": "beaee23d-4a0c-4845-ec88-072574b408c3"
      },
      "source": [
        "for x in range(1, 11):\n",
        "  df_reviews_genres['helpful' + str(x)]  = np.nan\n",
        "\n",
        "# insert a column \"helpful\"\n",
        "for x in range(len(df_reviews_genres)):\n",
        "  for y in range(min(4, len(df_reviews_genres['reviews'][x]))):\n",
        "    mean = (df_reviews_genres['reviews'][x][y]['reviewer']['scores']['overall'])\n",
        "    if df_reviews_genres['helpful' + str(round(mean))][x] > 0:\n",
        "      df_reviews_genres['helpful' + str(round(mean))][x] = round(df_reviews_genres['reviews'][x][y]['helpful_count'] + df_reviews_genres['helpful' + str(round(mean))][x])\n",
        "    else:\n",
        "      df_reviews_genres['helpful' + str(round(mean))][x] = df_reviews_genres['reviews'][x][y]['helpful_count']"
      ],
      "execution_count": null,
      "outputs": [
        {
          "output_type": "stream",
          "text": [
            "/usr/local/lib/python3.6/dist-packages/ipykernel_launcher.py:11: SettingWithCopyWarning: \n",
            "A value is trying to be set on a copy of a slice from a DataFrame\n",
            "\n",
            "See the caveats in the documentation: http://pandas.pydata.org/pandas-docs/stable/user_guide/indexing.html#returning-a-view-versus-a-copy\n",
            "  # This is added back by InteractiveShellApp.init_path()\n",
            "/usr/local/lib/python3.6/dist-packages/ipykernel_launcher.py:9: SettingWithCopyWarning: \n",
            "A value is trying to be set on a copy of a slice from a DataFrame\n",
            "\n",
            "See the caveats in the documentation: http://pandas.pydata.org/pandas-docs/stable/user_guide/indexing.html#returning-a-view-versus-a-copy\n",
            "  if __name__ == '__main__':\n"
          ],
          "name": "stderr"
        }
      ]
    },
    {
      "cell_type": "markdown",
      "metadata": {
        "id": "afcr-_DK4P3X"
      },
      "source": [
        "Each column is a movies' genre(s). Each column \"helpfulx\" is the number of helpful votes the review for that show recieved."
      ]
    },
    {
      "cell_type": "markdown",
      "metadata": {
        "id": "-KW9Bbzhwbr6"
      },
      "source": [
        "For every movies' genre(s), I grabbed the top 4 reviews for the movie and added a column corresponding to the reviews' score with the value being the total number of helpful votes it recieved. **I chose the top 4 reviews, because for every anime on the page, the top 4 reviews are the ones shown unless you click \"More reviews.\"** The top 4 reviews are the most significant because many people use those reviews to judge the anime because they are seen as the most credible. "
      ]
    },
    {
      "cell_type": "code",
      "metadata": {
        "id": "DvlG8n7vCd8i"
      },
      "source": [
        "df_reviews_genres.reset_index(inplace=True)\n",
        "df_reviews_genres_grouped = df_reviews_genres.groupby('index').mean()"
      ],
      "execution_count": null,
      "outputs": []
    },
    {
      "cell_type": "code",
      "metadata": {
        "id": "RJyi4z0rx8CD"
      },
      "source": [
        "polar_votes = {}\n",
        "\n",
        "def get_polar_votes(genre):\n",
        "    for x in range(5):\n",
        "      if genre[x] in polar_votes:\n",
        "        polar_votes[str(genre[x])] += 1\n",
        "      else:\n",
        "        polar_votes[str(genre[x])] = 1\n"
      ],
      "execution_count": null,
      "outputs": []
    },
    {
      "cell_type": "code",
      "metadata": {
        "id": "_CqHKa_2Cxoe",
        "colab": {
          "base_uri": "https://localhost:8080/",
          "height": 683
        },
        "outputId": "16f7bc87-34c4-4452-fe2a-0c6835275822"
      },
      "source": [
        "df_reviews_genres_grouped['helpful1'].sort_values(ascending=False).plot.bar(figsize = (25, 10)).set_xlabel(\"x label\")\n",
        "get_polar_votes(df_reviews_genres_grouped['helpful1'].sort_values(ascending=False).index[:5])"
      ],
      "execution_count": null,
      "outputs": [
        {
          "output_type": "display_data",
          "data": {
            "image/png": "[encoded data removed]",
            "text/plain": [
              "<Figure size 1800x720 with 1 Axes>"
            ]
          },
          "metadata": {
            "tags": []
          }
        }
      ]
    },
    {
      "cell_type": "markdown",
      "metadata": {
        "id": "uDwWJSRhx_vi"
      },
      "source": [
        "**I graphed the number of helpful votes for each score by genre. Ie Out of all \"music\" anime in the top 450, the top 4 reviews with a \"1\" rating recieved a total of about 2500 helpful votes. Music, Sci-Fi, Mecha, Military, and Drama all get one polar vote.**"
      ]
    },
    {
      "cell_type": "markdown",
      "metadata": {
        "id": "QliS1lZ50Pfm"
      },
      "source": [
        "I then added one polar vote to the top 5 genres with the most \"helpful\" votes on reviews with a 1 rating, because a rating of 1 is the lowest and it is very contraversial to give any anime in the top 450 a rating of 1, but a number of people voted \"helpful\" on the review."
      ]
    },
    {
      "cell_type": "code",
      "metadata": {
        "id": "NswfD6vzDbQO",
        "colab": {
          "base_uri": "https://localhost:8080/",
          "height": 683
        },
        "outputId": "1f4441f0-6254-4268-e6ef-d03add5b0628"
      },
      "source": [
        "df_reviews_genres_grouped['helpful2'].sort_values(ascending=False).plot.bar(figsize = (25, 10))\n",
        "get_polar_votes(df_reviews_genres_grouped['helpful2'].sort_values(ascending=False).index[:5])"
      ],
      "execution_count": null,
      "outputs": [
        {
          "output_type": "display_data",
          "data": {
            "image/png": "[encoded data removed]",
            "text/plain": [
              "<Figure size 1800x720 with 1 Axes>"
            ]
          },
          "metadata": {
            "tags": []
          }
        }
      ]
    },
    {
      "cell_type": "code",
      "metadata": {
        "id": "b--OSuniDcLn",
        "colab": {
          "base_uri": "https://localhost:8080/",
          "height": 683
        },
        "outputId": "72c9c9e3-766c-4234-b312-3962d804e4a1"
      },
      "source": [
        "df_reviews_genres_grouped['helpful3'].sort_values(ascending=False).plot.bar(figsize = (25, 10))\n",
        "get_polar_votes(df_reviews_genres_grouped['helpful3'].sort_values(ascending=False).index[:5])"
      ],
      "execution_count": null,
      "outputs": [
        {
          "output_type": "display_data",
          "data": {
            "image/png": "[encoded data removed]",
            "text/plain": [
              "<Figure size 1800x720 with 1 Axes>"
            ]
          },
          "metadata": {
            "tags": []
          }
        }
      ]
    },
    {
      "cell_type": "code",
      "metadata": {
        "id": "tV6GQRKhDcHX",
        "colab": {
          "base_uri": "https://localhost:8080/",
          "height": 683
        },
        "outputId": "90e19d82-f01e-4580-c452-fe87d2ab716a"
      },
      "source": [
        "df_reviews_genres_grouped['helpful4'].sort_values(ascending=False).plot.bar(figsize = (25, 10))\n",
        "get_polar_votes(df_reviews_genres_grouped['helpful4'].sort_values(ascending=False).index[:5])"
      ],
      "execution_count": null,
      "outputs": [
        {
          "output_type": "display_data",
          "data": {
            "image/png": "[encoded data removed]",
            "text/plain": [
              "<Figure size 1800x720 with 1 Axes>"
            ]
          },
          "metadata": {
            "tags": []
          }
        }
      ]
    },
    {
      "cell_type": "code",
      "metadata": {
        "id": "IXs3XtYEDcFc",
        "colab": {
          "base_uri": "https://localhost:8080/",
          "height": 683
        },
        "outputId": "12ae68ae-503e-44e5-84ea-339161762e64"
      },
      "source": [
        "df_reviews_genres_grouped['helpful5'].sort_values(ascending=False).plot.bar(figsize = (25, 10))\n",
        "get_polar_votes(df_reviews_genres_grouped['helpful5'].sort_values(ascending=False).index[:5])"
      ],
      "execution_count": null,
      "outputs": [
        {
          "output_type": "display_data",
          "data": {
            "image/png": "[encoded data removed]",
            "text/plain": [
              "<Figure size 1800x720 with 1 Axes>"
            ]
          },
          "metadata": {
            "tags": []
          }
        }
      ]
    },
    {
      "cell_type": "markdown",
      "metadata": {
        "id": "dU57X4_kMqa_"
      },
      "source": [
        "**For the genres with the top 5 most \"helpful\" votes on reviews with a 1-5 rating, they recieve 1 \"polar vote.\" These Genre recieve a polar vote because a rating of 1-5 is contraversial to give any anime in the top 450, but a number of people voted \"helpful\" on the review, which indicates polarity.**"
      ]
    },
    {
      "cell_type": "markdown",
      "metadata": {
        "id": "jdllXMs50sPV"
      },
      "source": [
        "I repeated the process for every possible score (1-10). I gave polar points to every genre having the top 5 most helpful votes for reviews with score 1, 2, 3, 4, or 5. I did not give polar points to any genres with score 6, 7, 8, 9, 10, because these are not really contraversial scores. "
      ]
    },
    {
      "cell_type": "code",
      "metadata": {
        "id": "imSvS7bL4NpQ",
        "colab": {
          "base_uri": "https://localhost:8080/",
          "height": 349
        },
        "outputId": "10dd374c-53e4-49d0-eeaa-be749a55ea2e"
      },
      "source": [
        "polar_votes"
      ],
      "execution_count": null,
      "outputs": [
        {
          "output_type": "execute_result",
          "data": {
            "text/plain": [
              "{'Comedy': 1,\n",
              " 'Dementia': 1,\n",
              " 'Drama': 1,\n",
              " 'Ecchi': 1,\n",
              " 'Game': 2,\n",
              " 'Horror': 1,\n",
              " 'Magic': 2,\n",
              " 'Mecha': 1,\n",
              " 'Military': 1,\n",
              " 'Music': 2,\n",
              " 'Mystery': 1,\n",
              " 'Parody': 1,\n",
              " 'Psychological': 2,\n",
              " 'Romance': 1,\n",
              " 'School': 2,\n",
              " 'Sci-Fi': 1,\n",
              " 'Super Power': 1,\n",
              " 'Supernatural': 1,\n",
              " 'Thriller': 2}"
            ]
          },
          "metadata": {
            "tags": []
          },
          "execution_count": 120
        }
      ]
    },
    {
      "cell_type": "markdown",
      "metadata": {
        "id": "Eqs99nLFNHr-"
      },
      "source": [
        "**This is what the polar votes dictionary looks like now.**"
      ]
    },
    {
      "cell_type": "markdown",
      "metadata": {
        "id": "-pzxvBmqQOYL"
      },
      "source": [
        "**Part 2**"
      ]
    },
    {
      "cell_type": "markdown",
      "metadata": {
        "id": "sAHqxqwpCyOH"
      },
      "source": [
        "This is the breakdown of each genres polar votes. Some of the genres are not shown because they have polar scores of 0. It seems dementia, kids, mecha, music, parody, and space are the most polar genres. However, just using the frequency helpful votes appeared on low rating reviews is not the only factor that displays polarization."
      ]
    },
    {
      "cell_type": "markdown",
      "metadata": {
        "id": "zRytio8C1yZP"
      },
      "source": [
        "Working with stats"
      ]
    },
    {
      "cell_type": "code",
      "metadata": {
        "id": "_2hVHSJmzgW0"
      },
      "source": [
        "# get the stats for each of the top 500 anime\n",
        "data_top500 = []\n",
        "\n",
        "for x in range(len(top500)):\n",
        "  response = requests.get(\"https://api.jikan.moe/v3/anime/\" + str(top500[x]) + '/stats')\n",
        "  data_top500.append(response.json()['scores'])\n",
        "\n",
        "df_stats = json_normalize(data_top500)"
      ],
      "execution_count": null,
      "outputs": []
    },
    {
      "cell_type": "markdown",
      "metadata": {
        "id": "ILYCJ5l04xp-"
      },
      "source": [
        "Each row is an anime, each column is a feature of the anime."
      ]
    },
    {
      "cell_type": "markdown",
      "metadata": {
        "id": "8T-x47xN2TYB"
      },
      "source": [
        "I read in the number and percentage of each score (1-10) for every anime in the top 450. These scores represent all scores given to each anime, ie the first anime had 7124 users who gave the anime a 1, which makes up .7% of all scores given. The mean of all scores in a row is the overall score of the anime. "
      ]
    },
    {
      "cell_type": "code",
      "metadata": {
        "id": "8rS0jVYczkcO"
      },
      "source": [
        "df_stats_genres = pd.DataFrame()\n",
        "\n",
        "for x in range(0, len(df_data)):\n",
        "  for y in range(0, len(df_data['genres'][x])):\n",
        "    df_stats_genres.insert(x, str(df_data['genres'][x][y]['name']), df_stats.loc[x], allow_duplicates=True)\n",
        "\n",
        "df_stats_genres = df_stats_genres.transpose()"
      ],
      "execution_count": null,
      "outputs": []
    },
    {
      "cell_type": "markdown",
      "metadata": {
        "id": "Yz_T2mPH5Rvw"
      },
      "source": [
        "Each row is a genre with a corresponding movie, columns are the same as above."
      ]
    },
    {
      "cell_type": "code",
      "metadata": {
        "id": "9J6nXhKuzm1R"
      },
      "source": [
        "df_stats_genres.reset_index(inplace=True)\n",
        "df_stats_genres_grouped = df_stats_genres.groupby('index').mean()"
      ],
      "execution_count": null,
      "outputs": []
    },
    {
      "cell_type": "code",
      "metadata": {
        "id": "ORaFDpgbzpCB",
        "colab": {
          "base_uri": "https://localhost:8080/",
          "height": 1000
        },
        "outputId": "f50b1cc7-a565-4c2e-e3ef-0c8aa9528eb1"
      },
      "source": [
        "# make a dataframe vote percentage only\n",
        "df_stats_genres_percent = df_stats_genres_grouped.drop(['1.votes', '2.votes', '3.votes', '4.votes', '5.votes',\n",
        "                              '6.votes', '7.votes', '8.votes', '9.votes', '10.votes'], axis = 1)\n",
        "df_stats_genres_percent"
      ],
      "execution_count": null,
      "outputs": [
        {
          "output_type": "execute_result",
          "data": {
            "text/html": [
              "<div>\n",
              "<style scoped>\n",
              "    .dataframe tbody tr th:only-of-type {\n",
              "        vertical-align: middle;\n",
              "    }\n",
              "\n",
              "    .dataframe tbody tr th {\n",
              "        vertical-align: top;\n",
              "    }\n",
              "\n",
              "    .dataframe thead th {\n",
              "        text-align: right;\n",
              "    }\n",
              "</style>\n",
              "<table border=\"1\" class=\"dataframe\">\n",
              "  <thead>\n",
              "    <tr style=\"text-align: right;\">\n",
              "      <th></th>\n",
              "      <th>1.percentage</th>\n",
              "      <th>2.percentage</th>\n",
              "      <th>3.percentage</th>\n",
              "      <th>4.percentage</th>\n",
              "      <th>5.percentage</th>\n",
              "      <th>6.percentage</th>\n",
              "      <th>7.percentage</th>\n",
              "      <th>8.percentage</th>\n",
              "      <th>9.percentage</th>\n",
              "      <th>10.percentage</th>\n",
              "    </tr>\n",
              "    <tr>\n",
              "      <th>index</th>\n",
              "      <th></th>\n",
              "      <th></th>\n",
              "      <th></th>\n",
              "      <th></th>\n",
              "      <th></th>\n",
              "      <th></th>\n",
              "      <th></th>\n",
              "      <th></th>\n",
              "      <th></th>\n",
              "      <th></th>\n",
              "    </tr>\n",
              "  </thead>\n",
              "  <tbody>\n",
              "    <tr>\n",
              "      <th>Action</th>\n",
              "      <td>0.603468</td>\n",
              "      <td>0.195954</td>\n",
              "      <td>0.317341</td>\n",
              "      <td>0.706358</td>\n",
              "      <td>1.843931</td>\n",
              "      <td>4.673410</td>\n",
              "      <td>14.415029</td>\n",
              "      <td>27.971098</td>\n",
              "      <td>26.828324</td>\n",
              "      <td>22.436416</td>\n",
              "    </tr>\n",
              "    <tr>\n",
              "      <th>Adventure</th>\n",
              "      <td>0.428155</td>\n",
              "      <td>0.163107</td>\n",
              "      <td>0.281553</td>\n",
              "      <td>0.699029</td>\n",
              "      <td>1.944660</td>\n",
              "      <td>4.920388</td>\n",
              "      <td>14.930097</td>\n",
              "      <td>28.025243</td>\n",
              "      <td>26.487379</td>\n",
              "      <td>22.133010</td>\n",
              "    </tr>\n",
              "    <tr>\n",
              "      <th>Cars</th>\n",
              "      <td>0.283333</td>\n",
              "      <td>0.083333</td>\n",
              "      <td>0.166667</td>\n",
              "      <td>0.600000</td>\n",
              "      <td>1.850000</td>\n",
              "      <td>5.283333</td>\n",
              "      <td>17.466667</td>\n",
              "      <td>31.766667</td>\n",
              "      <td>24.416667</td>\n",
              "      <td>18.066667</td>\n",
              "    </tr>\n",
              "    <tr>\n",
              "      <th>Comedy</th>\n",
              "      <td>0.519903</td>\n",
              "      <td>0.184951</td>\n",
              "      <td>0.279126</td>\n",
              "      <td>0.677184</td>\n",
              "      <td>1.930583</td>\n",
              "      <td>4.883495</td>\n",
              "      <td>15.043689</td>\n",
              "      <td>28.480097</td>\n",
              "      <td>26.420874</td>\n",
              "      <td>21.588835</td>\n",
              "    </tr>\n",
              "    <tr>\n",
              "      <th>Dementia</th>\n",
              "      <td>0.500000</td>\n",
              "      <td>0.400000</td>\n",
              "      <td>0.500000</td>\n",
              "      <td>1.100000</td>\n",
              "      <td>2.033333</td>\n",
              "      <td>4.833333</td>\n",
              "      <td>12.666667</td>\n",
              "      <td>23.700000</td>\n",
              "      <td>26.433333</td>\n",
              "      <td>27.766667</td>\n",
              "    </tr>\n",
              "    <tr>\n",
              "      <th>Demons</th>\n",
              "      <td>0.432000</td>\n",
              "      <td>0.124000</td>\n",
              "      <td>0.208000</td>\n",
              "      <td>0.564000</td>\n",
              "      <td>1.668000</td>\n",
              "      <td>4.536000</td>\n",
              "      <td>14.480000</td>\n",
              "      <td>28.436000</td>\n",
              "      <td>27.008000</td>\n",
              "      <td>22.576000</td>\n",
              "    </tr>\n",
              "    <tr>\n",
              "      <th>Drama</th>\n",
              "      <td>0.580328</td>\n",
              "      <td>0.187432</td>\n",
              "      <td>0.303825</td>\n",
              "      <td>0.734426</td>\n",
              "      <td>1.904918</td>\n",
              "      <td>4.684699</td>\n",
              "      <td>13.934426</td>\n",
              "      <td>27.127869</td>\n",
              "      <td>27.238798</td>\n",
              "      <td>23.298361</td>\n",
              "    </tr>\n",
              "    <tr>\n",
              "      <th>Ecchi</th>\n",
              "      <td>0.255556</td>\n",
              "      <td>0.177778</td>\n",
              "      <td>0.333333</td>\n",
              "      <td>0.788889</td>\n",
              "      <td>1.833333</td>\n",
              "      <td>4.833333</td>\n",
              "      <td>15.722222</td>\n",
              "      <td>31.477778</td>\n",
              "      <td>27.333333</td>\n",
              "      <td>17.266667</td>\n",
              "    </tr>\n",
              "    <tr>\n",
              "      <th>Fantasy</th>\n",
              "      <td>0.442222</td>\n",
              "      <td>0.163333</td>\n",
              "      <td>0.284444</td>\n",
              "      <td>0.716667</td>\n",
              "      <td>1.867778</td>\n",
              "      <td>4.731111</td>\n",
              "      <td>14.312222</td>\n",
              "      <td>27.518889</td>\n",
              "      <td>27.033333</td>\n",
              "      <td>22.944444</td>\n",
              "    </tr>\n",
              "    <tr>\n",
              "      <th>Game</th>\n",
              "      <td>1.306667</td>\n",
              "      <td>0.133333</td>\n",
              "      <td>0.286667</td>\n",
              "      <td>0.673333</td>\n",
              "      <td>1.713333</td>\n",
              "      <td>4.493333</td>\n",
              "      <td>13.846667</td>\n",
              "      <td>28.906667</td>\n",
              "      <td>28.053333</td>\n",
              "      <td>20.580000</td>\n",
              "    </tr>\n",
              "    <tr>\n",
              "      <th>Harem</th>\n",
              "      <td>0.150000</td>\n",
              "      <td>0.150000</td>\n",
              "      <td>0.250000</td>\n",
              "      <td>0.850000</td>\n",
              "      <td>2.400000</td>\n",
              "      <td>6.050000</td>\n",
              "      <td>17.500000</td>\n",
              "      <td>28.950000</td>\n",
              "      <td>25.500000</td>\n",
              "      <td>18.100000</td>\n",
              "    </tr>\n",
              "    <tr>\n",
              "      <th>Historical</th>\n",
              "      <td>0.901754</td>\n",
              "      <td>0.201754</td>\n",
              "      <td>0.270175</td>\n",
              "      <td>0.647368</td>\n",
              "      <td>1.749123</td>\n",
              "      <td>4.296491</td>\n",
              "      <td>12.933333</td>\n",
              "      <td>25.729825</td>\n",
              "      <td>27.029825</td>\n",
              "      <td>26.257895</td>\n",
              "    </tr>\n",
              "    <tr>\n",
              "      <th>Horror</th>\n",
              "      <td>0.400000</td>\n",
              "      <td>0.220000</td>\n",
              "      <td>0.340000</td>\n",
              "      <td>0.880000</td>\n",
              "      <td>1.890000</td>\n",
              "      <td>4.500000</td>\n",
              "      <td>12.710000</td>\n",
              "      <td>26.000000</td>\n",
              "      <td>28.810000</td>\n",
              "      <td>24.250000</td>\n",
              "    </tr>\n",
              "    <tr>\n",
              "      <th>Josei</th>\n",
              "      <td>1.507692</td>\n",
              "      <td>0.130769</td>\n",
              "      <td>0.284615</td>\n",
              "      <td>0.630769</td>\n",
              "      <td>1.792308</td>\n",
              "      <td>4.407692</td>\n",
              "      <td>13.769231</td>\n",
              "      <td>28.453846</td>\n",
              "      <td>28.884615</td>\n",
              "      <td>20.130769</td>\n",
              "    </tr>\n",
              "    <tr>\n",
              "      <th>Kids</th>\n",
              "      <td>0.400000</td>\n",
              "      <td>0.300000</td>\n",
              "      <td>0.400000</td>\n",
              "      <td>0.800000</td>\n",
              "      <td>2.800000</td>\n",
              "      <td>6.300000</td>\n",
              "      <td>17.600000</td>\n",
              "      <td>30.700000</td>\n",
              "      <td>22.400000</td>\n",
              "      <td>18.300000</td>\n",
              "    </tr>\n",
              "    <tr>\n",
              "      <th>Magic</th>\n",
              "      <td>0.293750</td>\n",
              "      <td>0.159375</td>\n",
              "      <td>0.306250</td>\n",
              "      <td>0.737500</td>\n",
              "      <td>1.971875</td>\n",
              "      <td>4.946875</td>\n",
              "      <td>15.112500</td>\n",
              "      <td>29.056250</td>\n",
              "      <td>27.190625</td>\n",
              "      <td>20.221875</td>\n",
              "    </tr>\n",
              "    <tr>\n",
              "      <th>Martial Arts</th>\n",
              "      <td>0.375000</td>\n",
              "      <td>0.187500</td>\n",
              "      <td>0.337500</td>\n",
              "      <td>0.887500</td>\n",
              "      <td>2.325000</td>\n",
              "      <td>5.600000</td>\n",
              "      <td>15.512500</td>\n",
              "      <td>26.687500</td>\n",
              "      <td>25.175000</td>\n",
              "      <td>22.837500</td>\n",
              "    </tr>\n",
              "    <tr>\n",
              "      <th>Mecha</th>\n",
              "      <td>0.526923</td>\n",
              "      <td>0.234615</td>\n",
              "      <td>0.469231</td>\n",
              "      <td>0.907692</td>\n",
              "      <td>2.100000</td>\n",
              "      <td>5.046154</td>\n",
              "      <td>14.580769</td>\n",
              "      <td>27.642308</td>\n",
              "      <td>26.338462</td>\n",
              "      <td>22.134615</td>\n",
              "    </tr>\n",
              "    <tr>\n",
              "      <th>Military</th>\n",
              "      <td>0.715625</td>\n",
              "      <td>0.265625</td>\n",
              "      <td>0.431250</td>\n",
              "      <td>0.790625</td>\n",
              "      <td>1.800000</td>\n",
              "      <td>4.365625</td>\n",
              "      <td>13.531250</td>\n",
              "      <td>27.531250</td>\n",
              "      <td>27.481250</td>\n",
              "      <td>23.071875</td>\n",
              "    </tr>\n",
              "    <tr>\n",
              "      <th>Music</th>\n",
              "      <td>0.422222</td>\n",
              "      <td>0.222222</td>\n",
              "      <td>0.355556</td>\n",
              "      <td>0.833333</td>\n",
              "      <td>2.250000</td>\n",
              "      <td>5.227778</td>\n",
              "      <td>14.677778</td>\n",
              "      <td>27.272222</td>\n",
              "      <td>26.233333</td>\n",
              "      <td>22.516667</td>\n",
              "    </tr>\n",
              "    <tr>\n",
              "      <th>Mystery</th>\n",
              "      <td>0.526190</td>\n",
              "      <td>0.161905</td>\n",
              "      <td>0.296429</td>\n",
              "      <td>0.704762</td>\n",
              "      <td>1.851190</td>\n",
              "      <td>4.685714</td>\n",
              "      <td>14.333333</td>\n",
              "      <td>28.034524</td>\n",
              "      <td>27.360714</td>\n",
              "      <td>22.058333</td>\n",
              "    </tr>\n",
              "    <tr>\n",
              "      <th>Parody</th>\n",
              "      <td>1.460870</td>\n",
              "      <td>0.308696</td>\n",
              "      <td>0.295652</td>\n",
              "      <td>0.630435</td>\n",
              "      <td>1.700000</td>\n",
              "      <td>4.113043</td>\n",
              "      <td>12.286957</td>\n",
              "      <td>23.647826</td>\n",
              "      <td>24.556522</td>\n",
              "      <td>31.013043</td>\n",
              "    </tr>\n",
              "    <tr>\n",
              "      <th>Police</th>\n",
              "      <td>0.495000</td>\n",
              "      <td>0.115000</td>\n",
              "      <td>0.270000</td>\n",
              "      <td>0.670000</td>\n",
              "      <td>1.995000</td>\n",
              "      <td>5.125000</td>\n",
              "      <td>16.215000</td>\n",
              "      <td>29.125000</td>\n",
              "      <td>25.240000</td>\n",
              "      <td>20.735000</td>\n",
              "    </tr>\n",
              "    <tr>\n",
              "      <th>Psychological</th>\n",
              "      <td>0.377143</td>\n",
              "      <td>0.211429</td>\n",
              "      <td>0.351429</td>\n",
              "      <td>0.877143</td>\n",
              "      <td>1.988571</td>\n",
              "      <td>4.831429</td>\n",
              "      <td>13.894286</td>\n",
              "      <td>27.205714</td>\n",
              "      <td>28.062857</td>\n",
              "      <td>22.188571</td>\n",
              "    </tr>\n",
              "    <tr>\n",
              "      <th>Romance</th>\n",
              "      <td>0.332609</td>\n",
              "      <td>0.176087</td>\n",
              "      <td>0.296739</td>\n",
              "      <td>0.791304</td>\n",
              "      <td>2.115217</td>\n",
              "      <td>5.223913</td>\n",
              "      <td>15.230435</td>\n",
              "      <td>28.083696</td>\n",
              "      <td>26.713043</td>\n",
              "      <td>21.042391</td>\n",
              "    </tr>\n",
              "    <tr>\n",
              "      <th>Samurai</th>\n",
              "      <td>1.442857</td>\n",
              "      <td>0.309524</td>\n",
              "      <td>0.238095</td>\n",
              "      <td>0.561905</td>\n",
              "      <td>1.619048</td>\n",
              "      <td>3.990476</td>\n",
              "      <td>12.119048</td>\n",
              "      <td>23.190476</td>\n",
              "      <td>24.719048</td>\n",
              "      <td>31.809524</td>\n",
              "    </tr>\n",
              "    <tr>\n",
              "      <th>School</th>\n",
              "      <td>0.501190</td>\n",
              "      <td>0.159524</td>\n",
              "      <td>0.269048</td>\n",
              "      <td>0.667857</td>\n",
              "      <td>1.833333</td>\n",
              "      <td>4.639286</td>\n",
              "      <td>14.688095</td>\n",
              "      <td>29.139286</td>\n",
              "      <td>27.577381</td>\n",
              "      <td>20.526190</td>\n",
              "    </tr>\n",
              "    <tr>\n",
              "      <th>Sci-Fi</th>\n",
              "      <td>0.735165</td>\n",
              "      <td>0.236264</td>\n",
              "      <td>0.354945</td>\n",
              "      <td>0.761538</td>\n",
              "      <td>1.919780</td>\n",
              "      <td>4.657143</td>\n",
              "      <td>13.747253</td>\n",
              "      <td>26.603297</td>\n",
              "      <td>26.500000</td>\n",
              "      <td>24.471429</td>\n",
              "    </tr>\n",
              "    <tr>\n",
              "      <th>Seinen</th>\n",
              "      <td>0.456667</td>\n",
              "      <td>0.158333</td>\n",
              "      <td>0.268333</td>\n",
              "      <td>0.648333</td>\n",
              "      <td>1.735000</td>\n",
              "      <td>4.526667</td>\n",
              "      <td>14.615000</td>\n",
              "      <td>29.871667</td>\n",
              "      <td>27.976667</td>\n",
              "      <td>19.746667</td>\n",
              "    </tr>\n",
              "    <tr>\n",
              "      <th>Shoujo</th>\n",
              "      <td>0.393548</td>\n",
              "      <td>0.158065</td>\n",
              "      <td>0.270968</td>\n",
              "      <td>0.725806</td>\n",
              "      <td>2.112903</td>\n",
              "      <td>5.351613</td>\n",
              "      <td>15.648387</td>\n",
              "      <td>27.870968</td>\n",
              "      <td>25.622581</td>\n",
              "      <td>21.864516</td>\n",
              "    </tr>\n",
              "    <tr>\n",
              "      <th>Shounen</th>\n",
              "      <td>0.605128</td>\n",
              "      <td>0.176923</td>\n",
              "      <td>0.282692</td>\n",
              "      <td>0.635256</td>\n",
              "      <td>1.788462</td>\n",
              "      <td>4.579487</td>\n",
              "      <td>14.455128</td>\n",
              "      <td>28.066026</td>\n",
              "      <td>26.623718</td>\n",
              "      <td>22.789103</td>\n",
              "    </tr>\n",
              "    <tr>\n",
              "      <th>Shounen Ai</th>\n",
              "      <td>0.433333</td>\n",
              "      <td>0.233333</td>\n",
              "      <td>0.366667</td>\n",
              "      <td>0.933333</td>\n",
              "      <td>2.633333</td>\n",
              "      <td>6.100000</td>\n",
              "      <td>16.533333</td>\n",
              "      <td>26.900000</td>\n",
              "      <td>24.133333</td>\n",
              "      <td>21.766667</td>\n",
              "    </tr>\n",
              "    <tr>\n",
              "      <th>Slice of Life</th>\n",
              "      <td>0.652688</td>\n",
              "      <td>0.151613</td>\n",
              "      <td>0.269892</td>\n",
              "      <td>0.650538</td>\n",
              "      <td>1.810753</td>\n",
              "      <td>4.554839</td>\n",
              "      <td>14.272043</td>\n",
              "      <td>28.781720</td>\n",
              "      <td>27.667742</td>\n",
              "      <td>21.198925</td>\n",
              "    </tr>\n",
              "    <tr>\n",
              "      <th>Space</th>\n",
              "      <td>0.933333</td>\n",
              "      <td>0.294444</td>\n",
              "      <td>0.511111</td>\n",
              "      <td>0.783333</td>\n",
              "      <td>1.872222</td>\n",
              "      <td>4.472222</td>\n",
              "      <td>14.016667</td>\n",
              "      <td>28.811111</td>\n",
              "      <td>27.466667</td>\n",
              "      <td>20.827778</td>\n",
              "    </tr>\n",
              "    <tr>\n",
              "      <th>Sports</th>\n",
              "      <td>0.906250</td>\n",
              "      <td>0.154167</td>\n",
              "      <td>0.245833</td>\n",
              "      <td>0.522917</td>\n",
              "      <td>1.587500</td>\n",
              "      <td>4.293750</td>\n",
              "      <td>14.514583</td>\n",
              "      <td>29.435417</td>\n",
              "      <td>27.489583</td>\n",
              "      <td>20.837500</td>\n",
              "    </tr>\n",
              "    <tr>\n",
              "      <th>Super Power</th>\n",
              "      <td>0.451351</td>\n",
              "      <td>0.202703</td>\n",
              "      <td>0.329730</td>\n",
              "      <td>0.767568</td>\n",
              "      <td>1.945946</td>\n",
              "      <td>4.821622</td>\n",
              "      <td>14.483784</td>\n",
              "      <td>27.470270</td>\n",
              "      <td>26.291892</td>\n",
              "      <td>23.240541</td>\n",
              "    </tr>\n",
              "    <tr>\n",
              "      <th>Supernatural</th>\n",
              "      <td>0.398165</td>\n",
              "      <td>0.146789</td>\n",
              "      <td>0.261468</td>\n",
              "      <td>0.641284</td>\n",
              "      <td>1.670642</td>\n",
              "      <td>4.393578</td>\n",
              "      <td>13.802752</td>\n",
              "      <td>28.066972</td>\n",
              "      <td>28.171560</td>\n",
              "      <td>22.457798</td>\n",
              "    </tr>\n",
              "    <tr>\n",
              "      <th>Thriller</th>\n",
              "      <td>0.386364</td>\n",
              "      <td>0.209091</td>\n",
              "      <td>0.350000</td>\n",
              "      <td>0.859091</td>\n",
              "      <td>1.927273</td>\n",
              "      <td>4.563636</td>\n",
              "      <td>13.063636</td>\n",
              "      <td>26.454545</td>\n",
              "      <td>28.245455</td>\n",
              "      <td>23.940909</td>\n",
              "    </tr>\n",
              "    <tr>\n",
              "      <th>Vampire</th>\n",
              "      <td>0.530000</td>\n",
              "      <td>0.140000</td>\n",
              "      <td>0.250000</td>\n",
              "      <td>0.530000</td>\n",
              "      <td>1.250000</td>\n",
              "      <td>3.300000</td>\n",
              "      <td>10.920000</td>\n",
              "      <td>25.960000</td>\n",
              "      <td>31.200000</td>\n",
              "      <td>25.920000</td>\n",
              "    </tr>\n",
              "  </tbody>\n",
              "</table>\n",
              "</div>"
            ],
            "text/plain": [
              "               1.percentage  2.percentage  ...  9.percentage  10.percentage\n",
              "index                                      ...                             \n",
              "Action             0.603468      0.195954  ...     26.828324      22.436416\n",
              "Adventure          0.428155      0.163107  ...     26.487379      22.133010\n",
              "Cars               0.283333      0.083333  ...     24.416667      18.066667\n",
              "Comedy             0.519903      0.184951  ...     26.420874      21.588835\n",
              "Dementia           0.500000      0.400000  ...     26.433333      27.766667\n",
              "Demons             0.432000      0.124000  ...     27.008000      22.576000\n",
              "Drama              0.580328      0.187432  ...     27.238798      23.298361\n",
              "Ecchi              0.255556      0.177778  ...     27.333333      17.266667\n",
              "Fantasy            0.442222      0.163333  ...     27.033333      22.944444\n",
              "Game               1.306667      0.133333  ...     28.053333      20.580000\n",
              "Harem              0.150000      0.150000  ...     25.500000      18.100000\n",
              "Historical         0.901754      0.201754  ...     27.029825      26.257895\n",
              "Horror             0.400000      0.220000  ...     28.810000      24.250000\n",
              "Josei              1.507692      0.130769  ...     28.884615      20.130769\n",
              "Kids               0.400000      0.300000  ...     22.400000      18.300000\n",
              "Magic              0.293750      0.159375  ...     27.190625      20.221875\n",
              "Martial Arts       0.375000      0.187500  ...     25.175000      22.837500\n",
              "Mecha              0.526923      0.234615  ...     26.338462      22.134615\n",
              "Military           0.715625      0.265625  ...     27.481250      23.071875\n",
              "Music              0.422222      0.222222  ...     26.233333      22.516667\n",
              "Mystery            0.526190      0.161905  ...     27.360714      22.058333\n",
              "Parody             1.460870      0.308696  ...     24.556522      31.013043\n",
              "Police             0.495000      0.115000  ...     25.240000      20.735000\n",
              "Psychological      0.377143      0.211429  ...     28.062857      22.188571\n",
              "Romance            0.332609      0.176087  ...     26.713043      21.042391\n",
              "Samurai            1.442857      0.309524  ...     24.719048      31.809524\n",
              "School             0.501190      0.159524  ...     27.577381      20.526190\n",
              "Sci-Fi             0.735165      0.236264  ...     26.500000      24.471429\n",
              "Seinen             0.456667      0.158333  ...     27.976667      19.746667\n",
              "Shoujo             0.393548      0.158065  ...     25.622581      21.864516\n",
              "Shounen            0.605128      0.176923  ...     26.623718      22.789103\n",
              "Shounen Ai         0.433333      0.233333  ...     24.133333      21.766667\n",
              "Slice of Life      0.652688      0.151613  ...     27.667742      21.198925\n",
              "Space              0.933333      0.294444  ...     27.466667      20.827778\n",
              "Sports             0.906250      0.154167  ...     27.489583      20.837500\n",
              "Super Power        0.451351      0.202703  ...     26.291892      23.240541\n",
              "Supernatural       0.398165      0.146789  ...     28.171560      22.457798\n",
              "Thriller           0.386364      0.209091  ...     28.245455      23.940909\n",
              "Vampire            0.530000      0.140000  ...     31.200000      25.920000\n",
              "\n",
              "[39 rows x 10 columns]"
            ]
          },
          "metadata": {
            "tags": []
          },
          "execution_count": 127
        }
      ]
    },
    {
      "cell_type": "markdown",
      "metadata": {
        "id": "pMj2U_TA5ey8"
      },
      "source": [
        "Each row is a genre, each column is the percentage of users that gave the anime the corresponding score. Ie on average, 0.603468% of the top 450 anime recieved a user given score of 1. This dataframe is too complex to draw conclusions from, so I analyzed each genre by score. "
      ]
    },
    {
      "cell_type": "code",
      "metadata": {
        "id": "rSZFWxV7zqWa",
        "colab": {
          "base_uri": "https://localhost:8080/",
          "height": 683
        },
        "outputId": "e547b86d-bd59-470a-90bd-57e6008c71f3"
      },
      "source": [
        "df_stats_genres_percent['1.percentage'].sort_values(ascending=False).plot.bar(figsize = (25, 10))\n",
        "get_polar_votes(df_stats_genres_percent['1.percentage'].sort_values(ascending=False).index[:5])"
      ],
      "execution_count": null,
      "outputs": [
        {
          "output_type": "display_data",
          "data": {
            "image/png": "[encoded data removed]",
            "text/plain": [
              "<Figure size 1800x720 with 1 Axes>"
            ]
          },
          "metadata": {
            "tags": []
          }
        }
      ]
    },
    {
      "cell_type": "markdown",
      "metadata": {
        "id": "XTsbrhTO6GDV"
      },
      "source": [
        "**I graphed the percentage of votes for each score by genre. Ie Out of all \"josei\" anime in the top 450, about 1.5% of users who rated the anime gave the anime a score of 1.**"
      ]
    },
    {
      "cell_type": "markdown",
      "metadata": {
        "id": "_2fES5_fPZZj"
      },
      "source": [
        "**I used the same process as above but with different criteria. The top 5 genres with the highest percentage of users giving a score 1-5 were given a polar vote**"
      ]
    },
    {
      "cell_type": "markdown",
      "metadata": {
        "id": "gcQSsm6s6Zbg"
      },
      "source": [
        "I used the same \"polar_votes\" dictionary that was keeping track of if a genre seems polar. For the genres with the top 5 highest percetnage of users giving a 1 rating, they recieve 1 \"polar point.\" Genres with the top 5 highest percentage of users giving a 1 rating recieve a polar vote because a rating of 1 is the lowest and it is very contraversial to give any anime in the top 450 a rating of 1."
      ]
    },
    {
      "cell_type": "code",
      "metadata": {
        "id": "9ptZjcm0Cqjl",
        "colab": {
          "base_uri": "https://localhost:8080/",
          "height": 683
        },
        "outputId": "3b56dd12-53ad-4c77-c9c2-0cb8cede920a"
      },
      "source": [
        "df_stats_genres_percent['2.percentage'].sort_values(ascending=False).plot.bar(figsize = (25, 10))\n",
        "get_polar_votes(df_stats_genres_percent['2.percentage'].sort_values(ascending=False).index[:5])"
      ],
      "execution_count": null,
      "outputs": [
        {
          "output_type": "display_data",
          "data": {
            "image/png": "[encoded data removed]",
            "text/plain": [
              "<Figure size 1800x720 with 1 Axes>"
            ]
          },
          "metadata": {
            "tags": []
          }
        }
      ]
    },
    {
      "cell_type": "code",
      "metadata": {
        "id": "-XEDUI-1ijYR",
        "colab": {
          "base_uri": "https://localhost:8080/",
          "height": 683
        },
        "outputId": "405798d1-907e-4982-b052-ac322c06ac64"
      },
      "source": [
        "df_stats_genres_percent['3.percentage'].sort_values(ascending=False).plot.bar(figsize = (25, 10))\n",
        "get_polar_votes(df_stats_genres_percent['3.percentage'].sort_values(ascending=False).index[:5])"
      ],
      "execution_count": null,
      "outputs": [
        {
          "output_type": "display_data",
          "data": {
            "image/png": "[encoded data removed]",
            "text/plain": [
              "<Figure size 1800x720 with 1 Axes>"
            ]
          },
          "metadata": {
            "tags": []
          }
        }
      ]
    },
    {
      "cell_type": "code",
      "metadata": {
        "id": "_tiyTb13ijTL",
        "colab": {
          "base_uri": "https://localhost:8080/",
          "height": 683
        },
        "outputId": "de1bafcf-98a4-4b8f-fcc9-14757a7951c9"
      },
      "source": [
        "df_stats_genres_percent['4.percentage'].sort_values(ascending=False).plot.bar(figsize = (25, 10))\n",
        "get_polar_votes(df_stats_genres_percent['4.percentage'].sort_values(ascending=False).index[:5])"
      ],
      "execution_count": null,
      "outputs": [
        {
          "output_type": "display_data",
          "data": {
            "image/png": "[encoded data removed]",
            "text/plain": [
              "<Figure size 1800x720 with 1 Axes>"
            ]
          },
          "metadata": {
            "tags": []
          }
        }
      ]
    },
    {
      "cell_type": "code",
      "metadata": {
        "id": "ZqWRFeOZijM3",
        "colab": {
          "base_uri": "https://localhost:8080/",
          "height": 683
        },
        "outputId": "780c4381-2f83-4523-a116-f04f814b7e2f"
      },
      "source": [
        "df_stats_genres_percent['5.percentage'].sort_values(ascending=False).plot.bar(figsize = (25, 10))\n",
        "get_polar_votes(df_stats_genres_percent['5.percentage'].sort_values(ascending=False).index[:5])"
      ],
      "execution_count": null,
      "outputs": [
        {
          "output_type": "display_data",
          "data": {
            "image/png": "[encoded data removed]",
            "text/plain": [
              "<Figure size 1800x720 with 1 Axes>"
            ]
          },
          "metadata": {
            "tags": []
          }
        }
      ]
    },
    {
      "cell_type": "markdown",
      "metadata": {
        "id": "iImdOROW5xbY"
      },
      "source": [
        "I repeated the process for every possible score (1-10). I gave polar points to every genre having the top 5 highest percentage of users giving scores of 1, 2, 3, 4, or 5. I did not give polar points to any genres with users giving scores of 6, 7, 8, 9, 10, because these are not really contraversial scores. "
      ]
    },
    {
      "cell_type": "code",
      "metadata": {
        "id": "3PpKC0EJ53kx",
        "colab": {
          "base_uri": "https://localhost:8080/",
          "height": 489
        },
        "outputId": "04f00761-7a0a-4a35-d627-4c7d1c0ccf22"
      },
      "source": [
        "pd.Series(polar_votes).sort_values(ascending=False)"
      ],
      "execution_count": null,
      "outputs": [
        {
          "output_type": "execute_result",
          "data": {
            "text/plain": [
              "Dementia         4\n",
              "Music            3\n",
              "Parody           3\n",
              "Mecha            3\n",
              "Game             3\n",
              "Space            3\n",
              "Kids             3\n",
              "Samurai          2\n",
              "Shounen Ai       2\n",
              "Magic            2\n",
              "Thriller         2\n",
              "Martial Arts     2\n",
              "Horror           2\n",
              "Psychological    2\n",
              "Military         2\n",
              "School           2\n",
              "Sci-Fi           1\n",
              "Supernatural     1\n",
              "Drama            1\n",
              "Harem            1\n",
              "Romance          1\n",
              "Comedy           1\n",
              "Super Power      1\n",
              "Ecchi            1\n",
              "Josei            1\n",
              "Mystery          1\n",
              "dtype: int64"
            ]
          },
          "metadata": {
            "tags": []
          },
          "execution_count": 133
        }
      ]
    },
    {
      "cell_type": "markdown",
      "metadata": {
        "id": "7XFAw4di77fA"
      },
      "source": [
        "**The updated polar_votes dictionary. Genres with polar votes 2 or higher I deemed were suspicious of being polar. This was: 'Dementia', 'Game', 'Kids', 'Mecha',\n",
        "          'Music', 'Parody', 'Space', 'Horror',\n",
        "          'Magic', 'Martial Arts', 'Military',\n",
        "          'Psychological', 'Samurai', 'School',\n",
        "          'Shounen Ai', 'Thriller'.**"
      ]
    },
    {
      "cell_type": "markdown",
      "metadata": {
        "id": "pg6zbwgTQHEk"
      },
      "source": [
        "**Part 3**"
      ]
    },
    {
      "cell_type": "code",
      "metadata": {
        "id": "mIsxlpaq9AL7"
      },
      "source": [
        "genres = ['Dementia', 'Game', 'Kids', 'Mecha',\n",
        "          'Music', 'Parody', 'Space', 'Horror',\n",
        "          'Magic', 'Martial Arts', 'Military',\n",
        "          'Psychological', 'Samurai', 'School',\n",
        "          'Shounen Ai', 'Thriller', 'Other']\n",
        "values = [4, 3, 3, 3, 3, 3, 3, 2, 2, 2, 2, 2, 2, 2, 2, 2, 0]\n",
        "df_polar = pd.DataFrame(values, index = genres, columns = ['count'])\n",
        "\n",
        "for x in range(1, 11):\n",
        "  df_polar[str(x)]  = np.nan"
      ],
      "execution_count": null,
      "outputs": []
    },
    {
      "cell_type": "code",
      "metadata": {
        "id": "H9_iKRUcHLuH"
      },
      "source": [
        "for x in range(len(df_reviews_genres)):\n",
        "  for y in range(min(4, len(df_reviews_genres['reviews'][x]))):\n",
        "    mean = (df_reviews_genres['reviews'][x][y]['reviewer']['scores']['overall'])\n",
        "    if df_reviews_genres['index'][x] == 'Dementia':\n",
        "      if df_polar[str(round(mean))][0] > 0:\n",
        "        df_polar[str(round(mean))][0] += 1\n",
        "      else:\n",
        "        df_polar[str(round(mean))][0] = 1\n",
        "    elif df_reviews_genres['index'][x] == 'Game':\n",
        "      if df_polar[str(round(mean))][1] > 0:\n",
        "        df_polar[str(round(mean))][1] += 1\n",
        "      else:\n",
        "        df_polar[str(round(mean))][1] = 1    \n",
        "    elif df_reviews_genres['index'][x] == 'Kids':\n",
        "      if df_polar[str(round(mean))][2] > 0:\n",
        "        df_polar[str(round(mean))][2] += 1\n",
        "      else:\n",
        "        df_polar[str(round(mean))][2] = 1\n",
        "    elif df_reviews_genres['index'][x] == 'Mecha':\n",
        "      if df_polar[str(round(mean))][3] > 0:\n",
        "        df_polar[str(round(mean))][3] += 1\n",
        "      else:\n",
        "        df_polar[str(round(mean))][3] = 1\n",
        "    elif df_reviews_genres['index'][x] == 'Music':\n",
        "      if df_polar[str(round(mean))][4] > 0:\n",
        "        df_polar[str(round(mean))][4] += 1\n",
        "      else:\n",
        "        df_polar[str(round(mean))][4] = 1\n",
        "    elif df_reviews_genres['index'][x] == 'Parody':\n",
        "      if df_polar[str(round(mean))][5] > 0:\n",
        "        df_polar[str(round(mean))][5] += 1\n",
        "      else:\n",
        "        df_polar[str(round(mean))][5] = 1\n",
        "    elif df_reviews_genres['index'][x] == 'Space':\n",
        "      if df_polar[str(round(mean))][6] > 0:\n",
        "        df_polar[str(round(mean))][6] += 1\n",
        "      else:\n",
        "        df_polar[str(round(mean))][6] = 1\n",
        "    elif df_reviews_genres['index'][x] == 'Horror':\n",
        "      if df_polar[str(round(mean))][7] > 0:\n",
        "        df_polar[str(round(mean))][7] += 1\n",
        "      else:\n",
        "        df_polar[str(round(mean))][7] = 1\n",
        "    elif df_reviews_genres['index'][x] == 'Magic':\n",
        "      if df_polar[str(round(mean))][8] > 0:\n",
        "        df_polar[str(round(mean))][8] += 1\n",
        "      else:\n",
        "        df_polar[str(round(mean))][8] = 1\n",
        "    elif df_reviews_genres['index'][x] == 'Martial Arts':\n",
        "      if df_polar[str(round(mean))][9] > 0:\n",
        "        df_polar[str(round(mean))][9] += 1\n",
        "      else:\n",
        "        df_polar[str(round(mean))][9] = 1\n",
        "    elif df_reviews_genres['index'][x] == 'Military':\n",
        "      if df_polar[str(round(mean))][10] > 0:\n",
        "        df_polar[str(round(mean))][10] += 1\n",
        "      else:\n",
        "        df_polar[str(round(mean))][10] = 1\n",
        "    elif df_reviews_genres['index'][x] == 'Psychological':\n",
        "      if df_polar[str(round(mean))][11] > 0:\n",
        "        df_polar[str(round(mean))][11] += 1\n",
        "      else:\n",
        "        df_polar[str(round(mean))][11] = 1\n",
        "    elif df_reviews_genres['index'][x] == 'Samurai':\n",
        "      if df_polar[str(round(mean))][12] > 0:\n",
        "        df_polar[str(round(mean))][12] += 1\n",
        "      else:\n",
        "        df_polar[str(round(mean))][12] = 1\n",
        "    elif df_reviews_genres['index'][x] == 'School':\n",
        "      if df_polar[str(round(mean))][13] > 0:\n",
        "        df_polar[str(round(mean))][13] += 1\n",
        "      else:\n",
        "        df_polar[str(round(mean))][13] = 1\n",
        "    elif df_reviews_genres['index'][x] == 'Shounen Ai':\n",
        "      if df_polar[str(round(mean))][14] > 0:\n",
        "        df_polar[str(round(mean))][14] += 1\n",
        "      else:\n",
        "        df_polar[str(round(mean))][14] = 1\n",
        "    elif df_reviews_genres['index'][x] == 'Thriller':\n",
        "      if df_polar[str(round(mean))][15] > 0:\n",
        "        df_polar[str(round(mean))][15] += 1\n",
        "      else:\n",
        "        df_polar[str(round(mean))][15] = 1\n",
        "    if df_polar[str(round(mean))][16] > 0:\n",
        "      df_polar[str(round(mean))][16] += 1\n",
        "    else:\n",
        "      df_polar[str(round(mean))][16] = 1\n"
      ],
      "execution_count": null,
      "outputs": []
    },
    {
      "cell_type": "markdown",
      "metadata": {
        "id": "k8KKaDw38cW4"
      },
      "source": [
        "Each row is a genre, each column is the number of top 4 reviews given by users with a corresponding score. Ie for dementia anime, there were 2 reviews with a score of \"5\", 1 review with a score of \"8\", 2 reviews with a score of \"9\", and 7 reviews with a score of \"10\" in the top 4 for all dementia anime in the top 450."
      ]
    },
    {
      "cell_type": "markdown",
      "metadata": {
        "id": "c7aRpFSI9ITY"
      },
      "source": [
        "I created this dataframe to compare the number of scores of top 4 reviews for each genre that I marked as having a polar vote 2 or higher. The row \"other\" represents the total number of reviews with corresponding scores for genres not having a polar vote of 2 of higher.  "
      ]
    },
    {
      "cell_type": "code",
      "metadata": {
        "id": "z_C7YHuBAcFq",
        "colab": {
          "base_uri": "https://localhost:8080/",
          "height": 576
        },
        "outputId": "432610e4-c73c-475c-e90a-f9591b6907b9"
      },
      "source": [
        "df_polar['count'] = 0\n",
        "df_polar = df_polar.div(df_polar.sum(axis=1), axis=0) * 100\n",
        "df_polar.fillna(0, inplace= True)\n",
        "df_polar"
      ],
      "execution_count": null,
      "outputs": [
        {
          "output_type": "execute_result",
          "data": {
            "text/html": [
              "<div>\n",
              "<style scoped>\n",
              "    .dataframe tbody tr th:only-of-type {\n",
              "        vertical-align: middle;\n",
              "    }\n",
              "\n",
              "    .dataframe tbody tr th {\n",
              "        vertical-align: top;\n",
              "    }\n",
              "\n",
              "    .dataframe thead th {\n",
              "        text-align: right;\n",
              "    }\n",
              "</style>\n",
              "<table border=\"1\" class=\"dataframe\">\n",
              "  <thead>\n",
              "    <tr style=\"text-align: right;\">\n",
              "      <th></th>\n",
              "      <th>count</th>\n",
              "      <th>1</th>\n",
              "      <th>2</th>\n",
              "      <th>3</th>\n",
              "      <th>4</th>\n",
              "      <th>5</th>\n",
              "      <th>6</th>\n",
              "      <th>7</th>\n",
              "      <th>8</th>\n",
              "      <th>9</th>\n",
              "      <th>10</th>\n",
              "    </tr>\n",
              "  </thead>\n",
              "  <tbody>\n",
              "    <tr>\n",
              "      <th>Dementia</th>\n",
              "      <td>0.0</td>\n",
              "      <td>0.000000</td>\n",
              "      <td>0.000000</td>\n",
              "      <td>0.000000</td>\n",
              "      <td>0.000000</td>\n",
              "      <td>16.666667</td>\n",
              "      <td>0.000000</td>\n",
              "      <td>0.000000</td>\n",
              "      <td>8.333333</td>\n",
              "      <td>16.666667</td>\n",
              "      <td>58.333333</td>\n",
              "    </tr>\n",
              "    <tr>\n",
              "      <th>Game</th>\n",
              "      <td>0.0</td>\n",
              "      <td>0.000000</td>\n",
              "      <td>0.000000</td>\n",
              "      <td>5.172414</td>\n",
              "      <td>3.448276</td>\n",
              "      <td>3.448276</td>\n",
              "      <td>6.896552</td>\n",
              "      <td>1.724138</td>\n",
              "      <td>18.965517</td>\n",
              "      <td>27.586207</td>\n",
              "      <td>32.758621</td>\n",
              "    </tr>\n",
              "    <tr>\n",
              "      <th>Kids</th>\n",
              "      <td>0.0</td>\n",
              "      <td>0.000000</td>\n",
              "      <td>0.000000</td>\n",
              "      <td>0.000000</td>\n",
              "      <td>0.000000</td>\n",
              "      <td>0.000000</td>\n",
              "      <td>0.000000</td>\n",
              "      <td>25.000000</td>\n",
              "      <td>25.000000</td>\n",
              "      <td>25.000000</td>\n",
              "      <td>25.000000</td>\n",
              "    </tr>\n",
              "    <tr>\n",
              "      <th>Mecha</th>\n",
              "      <td>0.0</td>\n",
              "      <td>1.000000</td>\n",
              "      <td>0.000000</td>\n",
              "      <td>6.000000</td>\n",
              "      <td>2.000000</td>\n",
              "      <td>7.000000</td>\n",
              "      <td>8.000000</td>\n",
              "      <td>11.000000</td>\n",
              "      <td>9.000000</td>\n",
              "      <td>20.000000</td>\n",
              "      <td>36.000000</td>\n",
              "    </tr>\n",
              "    <tr>\n",
              "      <th>Music</th>\n",
              "      <td>0.0</td>\n",
              "      <td>1.388889</td>\n",
              "      <td>0.000000</td>\n",
              "      <td>4.166667</td>\n",
              "      <td>1.388889</td>\n",
              "      <td>5.555556</td>\n",
              "      <td>0.000000</td>\n",
              "      <td>2.777778</td>\n",
              "      <td>15.277778</td>\n",
              "      <td>33.333333</td>\n",
              "      <td>36.111111</td>\n",
              "    </tr>\n",
              "    <tr>\n",
              "      <th>Parody</th>\n",
              "      <td>0.0</td>\n",
              "      <td>1.428571</td>\n",
              "      <td>0.000000</td>\n",
              "      <td>0.000000</td>\n",
              "      <td>4.285714</td>\n",
              "      <td>2.857143</td>\n",
              "      <td>10.000000</td>\n",
              "      <td>11.428571</td>\n",
              "      <td>17.142857</td>\n",
              "      <td>17.142857</td>\n",
              "      <td>35.714286</td>\n",
              "    </tr>\n",
              "    <tr>\n",
              "      <th>Space</th>\n",
              "      <td>0.0</td>\n",
              "      <td>0.000000</td>\n",
              "      <td>0.000000</td>\n",
              "      <td>4.411765</td>\n",
              "      <td>1.470588</td>\n",
              "      <td>7.352941</td>\n",
              "      <td>2.941176</td>\n",
              "      <td>8.823529</td>\n",
              "      <td>16.176471</td>\n",
              "      <td>25.000000</td>\n",
              "      <td>33.823529</td>\n",
              "    </tr>\n",
              "    <tr>\n",
              "      <th>Horror</th>\n",
              "      <td>0.0</td>\n",
              "      <td>0.000000</td>\n",
              "      <td>0.000000</td>\n",
              "      <td>2.500000</td>\n",
              "      <td>2.500000</td>\n",
              "      <td>5.000000</td>\n",
              "      <td>5.000000</td>\n",
              "      <td>5.000000</td>\n",
              "      <td>12.500000</td>\n",
              "      <td>27.500000</td>\n",
              "      <td>40.000000</td>\n",
              "    </tr>\n",
              "    <tr>\n",
              "      <th>Magic</th>\n",
              "      <td>0.0</td>\n",
              "      <td>0.781250</td>\n",
              "      <td>0.000000</td>\n",
              "      <td>2.343750</td>\n",
              "      <td>3.125000</td>\n",
              "      <td>3.125000</td>\n",
              "      <td>6.250000</td>\n",
              "      <td>9.375000</td>\n",
              "      <td>14.843750</td>\n",
              "      <td>31.250000</td>\n",
              "      <td>28.906250</td>\n",
              "    </tr>\n",
              "    <tr>\n",
              "      <th>Martial Arts</th>\n",
              "      <td>0.0</td>\n",
              "      <td>0.000000</td>\n",
              "      <td>3.125000</td>\n",
              "      <td>3.125000</td>\n",
              "      <td>3.125000</td>\n",
              "      <td>3.125000</td>\n",
              "      <td>3.125000</td>\n",
              "      <td>6.250000</td>\n",
              "      <td>12.500000</td>\n",
              "      <td>25.000000</td>\n",
              "      <td>40.625000</td>\n",
              "    </tr>\n",
              "    <tr>\n",
              "      <th>Military</th>\n",
              "      <td>0.0</td>\n",
              "      <td>0.806452</td>\n",
              "      <td>0.806452</td>\n",
              "      <td>1.612903</td>\n",
              "      <td>1.612903</td>\n",
              "      <td>6.451613</td>\n",
              "      <td>4.838710</td>\n",
              "      <td>7.258065</td>\n",
              "      <td>12.903226</td>\n",
              "      <td>31.451613</td>\n",
              "      <td>32.258065</td>\n",
              "    </tr>\n",
              "    <tr>\n",
              "      <th>Psychological</th>\n",
              "      <td>0.0</td>\n",
              "      <td>0.000000</td>\n",
              "      <td>0.000000</td>\n",
              "      <td>1.470588</td>\n",
              "      <td>5.147059</td>\n",
              "      <td>7.352941</td>\n",
              "      <td>3.676471</td>\n",
              "      <td>5.147059</td>\n",
              "      <td>11.029412</td>\n",
              "      <td>24.264706</td>\n",
              "      <td>41.911765</td>\n",
              "    </tr>\n",
              "    <tr>\n",
              "      <th>Samurai</th>\n",
              "      <td>0.0</td>\n",
              "      <td>1.538462</td>\n",
              "      <td>1.538462</td>\n",
              "      <td>1.538462</td>\n",
              "      <td>3.076923</td>\n",
              "      <td>1.538462</td>\n",
              "      <td>6.153846</td>\n",
              "      <td>9.230769</td>\n",
              "      <td>9.230769</td>\n",
              "      <td>27.692308</td>\n",
              "      <td>38.461538</td>\n",
              "    </tr>\n",
              "    <tr>\n",
              "      <th>School</th>\n",
              "      <td>0.0</td>\n",
              "      <td>1.204819</td>\n",
              "      <td>0.903614</td>\n",
              "      <td>6.325301</td>\n",
              "      <td>4.216867</td>\n",
              "      <td>3.313253</td>\n",
              "      <td>4.216867</td>\n",
              "      <td>9.337349</td>\n",
              "      <td>13.855422</td>\n",
              "      <td>30.421687</td>\n",
              "      <td>26.204819</td>\n",
              "    </tr>\n",
              "    <tr>\n",
              "      <th>Shounen Ai</th>\n",
              "      <td>0.0</td>\n",
              "      <td>0.000000</td>\n",
              "      <td>0.000000</td>\n",
              "      <td>0.000000</td>\n",
              "      <td>0.000000</td>\n",
              "      <td>0.000000</td>\n",
              "      <td>0.000000</td>\n",
              "      <td>16.666667</td>\n",
              "      <td>33.333333</td>\n",
              "      <td>33.333333</td>\n",
              "      <td>16.666667</td>\n",
              "    </tr>\n",
              "    <tr>\n",
              "      <th>Thriller</th>\n",
              "      <td>0.0</td>\n",
              "      <td>0.000000</td>\n",
              "      <td>0.000000</td>\n",
              "      <td>2.272727</td>\n",
              "      <td>2.272727</td>\n",
              "      <td>4.545455</td>\n",
              "      <td>9.090909</td>\n",
              "      <td>1.136364</td>\n",
              "      <td>14.772727</td>\n",
              "      <td>20.454545</td>\n",
              "      <td>45.454545</td>\n",
              "    </tr>\n",
              "    <tr>\n",
              "      <th>Other</th>\n",
              "      <td>0.0</td>\n",
              "      <td>0.622301</td>\n",
              "      <td>0.647701</td>\n",
              "      <td>2.882906</td>\n",
              "      <td>3.263907</td>\n",
              "      <td>4.318009</td>\n",
              "      <td>5.054610</td>\n",
              "      <td>6.718313</td>\n",
              "      <td>15.646431</td>\n",
              "      <td>28.905258</td>\n",
              "      <td>31.940564</td>\n",
              "    </tr>\n",
              "  </tbody>\n",
              "</table>\n",
              "</div>"
            ],
            "text/plain": [
              "               count         1         2  ...          8          9         10\n",
              "Dementia         0.0  0.000000  0.000000  ...   8.333333  16.666667  58.333333\n",
              "Game             0.0  0.000000  0.000000  ...  18.965517  27.586207  32.758621\n",
              "Kids             0.0  0.000000  0.000000  ...  25.000000  25.000000  25.000000\n",
              "Mecha            0.0  1.000000  0.000000  ...   9.000000  20.000000  36.000000\n",
              "Music            0.0  1.388889  0.000000  ...  15.277778  33.333333  36.111111\n",
              "Parody           0.0  1.428571  0.000000  ...  17.142857  17.142857  35.714286\n",
              "Space            0.0  0.000000  0.000000  ...  16.176471  25.000000  33.823529\n",
              "Horror           0.0  0.000000  0.000000  ...  12.500000  27.500000  40.000000\n",
              "Magic            0.0  0.781250  0.000000  ...  14.843750  31.250000  28.906250\n",
              "Martial Arts     0.0  0.000000  3.125000  ...  12.500000  25.000000  40.625000\n",
              "Military         0.0  0.806452  0.806452  ...  12.903226  31.451613  32.258065\n",
              "Psychological    0.0  0.000000  0.000000  ...  11.029412  24.264706  41.911765\n",
              "Samurai          0.0  1.538462  1.538462  ...   9.230769  27.692308  38.461538\n",
              "School           0.0  1.204819  0.903614  ...  13.855422  30.421687  26.204819\n",
              "Shounen Ai       0.0  0.000000  0.000000  ...  33.333333  33.333333  16.666667\n",
              "Thriller         0.0  0.000000  0.000000  ...  14.772727  20.454545  45.454545\n",
              "Other            0.0  0.622301  0.647701  ...  15.646431  28.905258  31.940564\n",
              "\n",
              "[17 rows x 11 columns]"
            ]
          },
          "metadata": {
            "tags": []
          },
          "execution_count": 136
        }
      ]
    },
    {
      "cell_type": "markdown",
      "metadata": {
        "id": "iA3-5I1d9_RN"
      },
      "source": [
        "**Each row is a genre, each column is the percentage of reviews with corresponding scores for all top 4 reviews of that genre. Ie for dementia 16.6% of top 4 reviews were given a score of 5, 8.3% of top 4 reviews were given a score of 8, 16.6% of top 4 reviews were given a score of 9, and 58.3% of scores were given a score of 10. The \"other\" row is the mean of all genres not listed explicitly.**"
      ]
    },
    {
      "cell_type": "markdown",
      "metadata": {
        "id": "oothcf8MiqnM"
      },
      "source": [
        "The DatFrame above is the same as the DataFrame before it but in percentage view. From comparing each row with the other row, the genres with high polarization seem to be dementia, game, music, parody, samurai, school. "
      ]
    },
    {
      "cell_type": "code",
      "metadata": {
        "id": "MoLIxLmI3gXA"
      },
      "source": [
        "dict_polar = {}\n",
        "\n",
        "for x in range(len(df_polar)):\n",
        "  bottom = 0\n",
        "  for y in range(1, 6):\n",
        "    bottom += df_polar[str(y)][x]\n",
        "  dict_polar[df_polar.index[x]] = (round(bottom, 1))"
      ],
      "execution_count": null,
      "outputs": []
    },
    {
      "cell_type": "code",
      "metadata": {
        "id": "8Jks1l_xia2Y",
        "colab": {
          "base_uri": "https://localhost:8080/",
          "height": 314
        },
        "outputId": "22511243-0479-46d8-a93d-1a8596a473e8"
      },
      "source": [
        "dict_polar"
      ],
      "execution_count": null,
      "outputs": [
        {
          "output_type": "execute_result",
          "data": {
            "text/plain": [
              "{'Dementia': 16.7,\n",
              " 'Game': 12.1,\n",
              " 'Horror': 10.0,\n",
              " 'Kids': 0.0,\n",
              " 'Magic': 9.4,\n",
              " 'Martial Arts': 12.5,\n",
              " 'Mecha': 16.0,\n",
              " 'Military': 11.3,\n",
              " 'Music': 12.5,\n",
              " 'Other': 11.7,\n",
              " 'Parody': 8.6,\n",
              " 'Psychological': 14.0,\n",
              " 'Samurai': 9.2,\n",
              " 'School': 16.0,\n",
              " 'Shounen Ai': 0.0,\n",
              " 'Space': 13.2,\n",
              " 'Thriller': 9.1}"
            ]
          },
          "metadata": {
            "tags": []
          },
          "execution_count": 138
        }
      ]
    },
    {
      "cell_type": "markdown",
      "metadata": {
        "id": "UrUHuDg_lh23"
      },
      "source": [
        "**I added the percentage of the top 4 reviews that were 5 and below, so that it was easier to compare to the \"other\" percentage of values 5 and below. This makes sense, because if I was comparing every score (1-10) for each genre, I would be comparing \"0\" to the percentage of \"other\" alot.**"
      ]
    },
    {
      "cell_type": "code",
      "metadata": {
        "id": "g6eru0fVj3Bb",
        "colab": {
          "base_uri": "https://localhost:8080/",
          "height": 332
        },
        "outputId": "fe178ba1-4e92-486b-f3b6-1ee3b73c9de3"
      },
      "source": [
        "for x in dict_polar:\n",
        "  dict_polar[x] = round(dict_polar[x] - 11.7, 1)\n",
        "\n",
        "pd.Series(dict_polar).sort_values(ascending=False)"
      ],
      "execution_count": null,
      "outputs": [
        {
          "output_type": "execute_result",
          "data": {
            "text/plain": [
              "Dementia          5.0\n",
              "School            4.3\n",
              "Mecha             4.3\n",
              "Psychological     2.3\n",
              "Space             1.5\n",
              "Music             0.8\n",
              "Martial Arts      0.8\n",
              "Game              0.4\n",
              "Other             0.0\n",
              "Military         -0.4\n",
              "Horror           -1.7\n",
              "Magic            -2.3\n",
              "Samurai          -2.5\n",
              "Thriller         -2.6\n",
              "Parody           -3.1\n",
              "Kids            -11.7\n",
              "Shounen Ai      -11.7\n",
              "dtype: float64"
            ]
          },
          "metadata": {
            "tags": []
          },
          "execution_count": 139
        }
      ]
    },
    {
      "cell_type": "markdown",
      "metadata": {
        "id": "-WL8UDHbjMlg"
      },
      "source": [
        "**I subtracted \"other\" from every value in the dictionary to determine the values that had the greatest deviation of percentage of values 5 and below from other. It seems dementia, mecha, parody, school, and thriller deviate the most.**"
      ]
    },
    {
      "cell_type": "code",
      "metadata": {
        "id": "ZMiFamvzATJZ"
      },
      "source": [
        "polar_votes['Dementia'] += 1\n",
        "polar_votes['Mecha'] += 1\n",
        "polar_votes['School'] += 1\n",
        "polar_votes['Psychological'] += 1\n",
        "polar_votes['Space'] += 1"
      ],
      "execution_count": null,
      "outputs": []
    },
    {
      "cell_type": "markdown",
      "metadata": {
        "id": "jR5gy3dcAbH0"
      },
      "source": [
        "**I gave the five listed genres above 1 more polar vote, because a high percentage of the top 4 scores being 5 or below is contraversial.**"
      ]
    },
    {
      "cell_type": "markdown",
      "metadata": {
        "id": "m9HmZj0zRYi-"
      },
      "source": [
        "**Part 4**"
      ]
    },
    {
      "cell_type": "code",
      "metadata": {
        "id": "Lo2XMOXacMED",
        "colab": {
          "base_uri": "https://localhost:8080/",
          "height": 1000
        },
        "outputId": "21207eff-c05e-4cab-9860-526ded3c9a95"
      },
      "source": [
        "df_stats_genres_percent"
      ],
      "execution_count": null,
      "outputs": [
        {
          "output_type": "execute_result",
          "data": {
            "text/html": [
              "<div>\n",
              "<style scoped>\n",
              "    .dataframe tbody tr th:only-of-type {\n",
              "        vertical-align: middle;\n",
              "    }\n",
              "\n",
              "    .dataframe tbody tr th {\n",
              "        vertical-align: top;\n",
              "    }\n",
              "\n",
              "    .dataframe thead th {\n",
              "        text-align: right;\n",
              "    }\n",
              "</style>\n",
              "<table border=\"1\" class=\"dataframe\">\n",
              "  <thead>\n",
              "    <tr style=\"text-align: right;\">\n",
              "      <th></th>\n",
              "      <th>1.percentage</th>\n",
              "      <th>2.percentage</th>\n",
              "      <th>3.percentage</th>\n",
              "      <th>4.percentage</th>\n",
              "      <th>5.percentage</th>\n",
              "      <th>6.percentage</th>\n",
              "      <th>7.percentage</th>\n",
              "      <th>8.percentage</th>\n",
              "      <th>9.percentage</th>\n",
              "      <th>10.percentage</th>\n",
              "    </tr>\n",
              "    <tr>\n",
              "      <th>index</th>\n",
              "      <th></th>\n",
              "      <th></th>\n",
              "      <th></th>\n",
              "      <th></th>\n",
              "      <th></th>\n",
              "      <th></th>\n",
              "      <th></th>\n",
              "      <th></th>\n",
              "      <th></th>\n",
              "      <th></th>\n",
              "    </tr>\n",
              "  </thead>\n",
              "  <tbody>\n",
              "    <tr>\n",
              "      <th>Action</th>\n",
              "      <td>0.603468</td>\n",
              "      <td>0.195954</td>\n",
              "      <td>0.317341</td>\n",
              "      <td>0.706358</td>\n",
              "      <td>1.843931</td>\n",
              "      <td>4.673410</td>\n",
              "      <td>14.415029</td>\n",
              "      <td>27.971098</td>\n",
              "      <td>26.828324</td>\n",
              "      <td>22.436416</td>\n",
              "    </tr>\n",
              "    <tr>\n",
              "      <th>Adventure</th>\n",
              "      <td>0.428155</td>\n",
              "      <td>0.163107</td>\n",
              "      <td>0.281553</td>\n",
              "      <td>0.699029</td>\n",
              "      <td>1.944660</td>\n",
              "      <td>4.920388</td>\n",
              "      <td>14.930097</td>\n",
              "      <td>28.025243</td>\n",
              "      <td>26.487379</td>\n",
              "      <td>22.133010</td>\n",
              "    </tr>\n",
              "    <tr>\n",
              "      <th>Cars</th>\n",
              "      <td>0.283333</td>\n",
              "      <td>0.083333</td>\n",
              "      <td>0.166667</td>\n",
              "      <td>0.600000</td>\n",
              "      <td>1.850000</td>\n",
              "      <td>5.283333</td>\n",
              "      <td>17.466667</td>\n",
              "      <td>31.766667</td>\n",
              "      <td>24.416667</td>\n",
              "      <td>18.066667</td>\n",
              "    </tr>\n",
              "    <tr>\n",
              "      <th>Comedy</th>\n",
              "      <td>0.519903</td>\n",
              "      <td>0.184951</td>\n",
              "      <td>0.279126</td>\n",
              "      <td>0.677184</td>\n",
              "      <td>1.930583</td>\n",
              "      <td>4.883495</td>\n",
              "      <td>15.043689</td>\n",
              "      <td>28.480097</td>\n",
              "      <td>26.420874</td>\n",
              "      <td>21.588835</td>\n",
              "    </tr>\n",
              "    <tr>\n",
              "      <th>Dementia</th>\n",
              "      <td>0.500000</td>\n",
              "      <td>0.400000</td>\n",
              "      <td>0.500000</td>\n",
              "      <td>1.100000</td>\n",
              "      <td>2.033333</td>\n",
              "      <td>4.833333</td>\n",
              "      <td>12.666667</td>\n",
              "      <td>23.700000</td>\n",
              "      <td>26.433333</td>\n",
              "      <td>27.766667</td>\n",
              "    </tr>\n",
              "    <tr>\n",
              "      <th>Demons</th>\n",
              "      <td>0.432000</td>\n",
              "      <td>0.124000</td>\n",
              "      <td>0.208000</td>\n",
              "      <td>0.564000</td>\n",
              "      <td>1.668000</td>\n",
              "      <td>4.536000</td>\n",
              "      <td>14.480000</td>\n",
              "      <td>28.436000</td>\n",
              "      <td>27.008000</td>\n",
              "      <td>22.576000</td>\n",
              "    </tr>\n",
              "    <tr>\n",
              "      <th>Drama</th>\n",
              "      <td>0.580328</td>\n",
              "      <td>0.187432</td>\n",
              "      <td>0.303825</td>\n",
              "      <td>0.734426</td>\n",
              "      <td>1.904918</td>\n",
              "      <td>4.684699</td>\n",
              "      <td>13.934426</td>\n",
              "      <td>27.127869</td>\n",
              "      <td>27.238798</td>\n",
              "      <td>23.298361</td>\n",
              "    </tr>\n",
              "    <tr>\n",
              "      <th>Ecchi</th>\n",
              "      <td>0.255556</td>\n",
              "      <td>0.177778</td>\n",
              "      <td>0.333333</td>\n",
              "      <td>0.788889</td>\n",
              "      <td>1.833333</td>\n",
              "      <td>4.833333</td>\n",
              "      <td>15.722222</td>\n",
              "      <td>31.477778</td>\n",
              "      <td>27.333333</td>\n",
              "      <td>17.266667</td>\n",
              "    </tr>\n",
              "    <tr>\n",
              "      <th>Fantasy</th>\n",
              "      <td>0.442222</td>\n",
              "      <td>0.163333</td>\n",
              "      <td>0.284444</td>\n",
              "      <td>0.716667</td>\n",
              "      <td>1.867778</td>\n",
              "      <td>4.731111</td>\n",
              "      <td>14.312222</td>\n",
              "      <td>27.518889</td>\n",
              "      <td>27.033333</td>\n",
              "      <td>22.944444</td>\n",
              "    </tr>\n",
              "    <tr>\n",
              "      <th>Game</th>\n",
              "      <td>1.306667</td>\n",
              "      <td>0.133333</td>\n",
              "      <td>0.286667</td>\n",
              "      <td>0.673333</td>\n",
              "      <td>1.713333</td>\n",
              "      <td>4.493333</td>\n",
              "      <td>13.846667</td>\n",
              "      <td>28.906667</td>\n",
              "      <td>28.053333</td>\n",
              "      <td>20.580000</td>\n",
              "    </tr>\n",
              "    <tr>\n",
              "      <th>Harem</th>\n",
              "      <td>0.150000</td>\n",
              "      <td>0.150000</td>\n",
              "      <td>0.250000</td>\n",
              "      <td>0.850000</td>\n",
              "      <td>2.400000</td>\n",
              "      <td>6.050000</td>\n",
              "      <td>17.500000</td>\n",
              "      <td>28.950000</td>\n",
              "      <td>25.500000</td>\n",
              "      <td>18.100000</td>\n",
              "    </tr>\n",
              "    <tr>\n",
              "      <th>Historical</th>\n",
              "      <td>0.901754</td>\n",
              "      <td>0.201754</td>\n",
              "      <td>0.270175</td>\n",
              "      <td>0.647368</td>\n",
              "      <td>1.749123</td>\n",
              "      <td>4.296491</td>\n",
              "      <td>12.933333</td>\n",
              "      <td>25.729825</td>\n",
              "      <td>27.029825</td>\n",
              "      <td>26.257895</td>\n",
              "    </tr>\n",
              "    <tr>\n",
              "      <th>Horror</th>\n",
              "      <td>0.400000</td>\n",
              "      <td>0.220000</td>\n",
              "      <td>0.340000</td>\n",
              "      <td>0.880000</td>\n",
              "      <td>1.890000</td>\n",
              "      <td>4.500000</td>\n",
              "      <td>12.710000</td>\n",
              "      <td>26.000000</td>\n",
              "      <td>28.810000</td>\n",
              "      <td>24.250000</td>\n",
              "    </tr>\n",
              "    <tr>\n",
              "      <th>Josei</th>\n",
              "      <td>1.507692</td>\n",
              "      <td>0.130769</td>\n",
              "      <td>0.284615</td>\n",
              "      <td>0.630769</td>\n",
              "      <td>1.792308</td>\n",
              "      <td>4.407692</td>\n",
              "      <td>13.769231</td>\n",
              "      <td>28.453846</td>\n",
              "      <td>28.884615</td>\n",
              "      <td>20.130769</td>\n",
              "    </tr>\n",
              "    <tr>\n",
              "      <th>Kids</th>\n",
              "      <td>0.400000</td>\n",
              "      <td>0.300000</td>\n",
              "      <td>0.400000</td>\n",
              "      <td>0.800000</td>\n",
              "      <td>2.800000</td>\n",
              "      <td>6.300000</td>\n",
              "      <td>17.600000</td>\n",
              "      <td>30.700000</td>\n",
              "      <td>22.400000</td>\n",
              "      <td>18.300000</td>\n",
              "    </tr>\n",
              "    <tr>\n",
              "      <th>Magic</th>\n",
              "      <td>0.293750</td>\n",
              "      <td>0.159375</td>\n",
              "      <td>0.306250</td>\n",
              "      <td>0.737500</td>\n",
              "      <td>1.971875</td>\n",
              "      <td>4.946875</td>\n",
              "      <td>15.112500</td>\n",
              "      <td>29.056250</td>\n",
              "      <td>27.190625</td>\n",
              "      <td>20.221875</td>\n",
              "    </tr>\n",
              "    <tr>\n",
              "      <th>Martial Arts</th>\n",
              "      <td>0.375000</td>\n",
              "      <td>0.187500</td>\n",
              "      <td>0.337500</td>\n",
              "      <td>0.887500</td>\n",
              "      <td>2.325000</td>\n",
              "      <td>5.600000</td>\n",
              "      <td>15.512500</td>\n",
              "      <td>26.687500</td>\n",
              "      <td>25.175000</td>\n",
              "      <td>22.837500</td>\n",
              "    </tr>\n",
              "    <tr>\n",
              "      <th>Mecha</th>\n",
              "      <td>0.526923</td>\n",
              "      <td>0.234615</td>\n",
              "      <td>0.469231</td>\n",
              "      <td>0.907692</td>\n",
              "      <td>2.100000</td>\n",
              "      <td>5.046154</td>\n",
              "      <td>14.580769</td>\n",
              "      <td>27.642308</td>\n",
              "      <td>26.338462</td>\n",
              "      <td>22.134615</td>\n",
              "    </tr>\n",
              "    <tr>\n",
              "      <th>Military</th>\n",
              "      <td>0.715625</td>\n",
              "      <td>0.265625</td>\n",
              "      <td>0.431250</td>\n",
              "      <td>0.790625</td>\n",
              "      <td>1.800000</td>\n",
              "      <td>4.365625</td>\n",
              "      <td>13.531250</td>\n",
              "      <td>27.531250</td>\n",
              "      <td>27.481250</td>\n",
              "      <td>23.071875</td>\n",
              "    </tr>\n",
              "    <tr>\n",
              "      <th>Music</th>\n",
              "      <td>0.422222</td>\n",
              "      <td>0.222222</td>\n",
              "      <td>0.355556</td>\n",
              "      <td>0.833333</td>\n",
              "      <td>2.250000</td>\n",
              "      <td>5.227778</td>\n",
              "      <td>14.677778</td>\n",
              "      <td>27.272222</td>\n",
              "      <td>26.233333</td>\n",
              "      <td>22.516667</td>\n",
              "    </tr>\n",
              "    <tr>\n",
              "      <th>Mystery</th>\n",
              "      <td>0.526190</td>\n",
              "      <td>0.161905</td>\n",
              "      <td>0.296429</td>\n",
              "      <td>0.704762</td>\n",
              "      <td>1.851190</td>\n",
              "      <td>4.685714</td>\n",
              "      <td>14.333333</td>\n",
              "      <td>28.034524</td>\n",
              "      <td>27.360714</td>\n",
              "      <td>22.058333</td>\n",
              "    </tr>\n",
              "    <tr>\n",
              "      <th>Parody</th>\n",
              "      <td>1.460870</td>\n",
              "      <td>0.308696</td>\n",
              "      <td>0.295652</td>\n",
              "      <td>0.630435</td>\n",
              "      <td>1.700000</td>\n",
              "      <td>4.113043</td>\n",
              "      <td>12.286957</td>\n",
              "      <td>23.647826</td>\n",
              "      <td>24.556522</td>\n",
              "      <td>31.013043</td>\n",
              "    </tr>\n",
              "    <tr>\n",
              "      <th>Police</th>\n",
              "      <td>0.495000</td>\n",
              "      <td>0.115000</td>\n",
              "      <td>0.270000</td>\n",
              "      <td>0.670000</td>\n",
              "      <td>1.995000</td>\n",
              "      <td>5.125000</td>\n",
              "      <td>16.215000</td>\n",
              "      <td>29.125000</td>\n",
              "      <td>25.240000</td>\n",
              "      <td>20.735000</td>\n",
              "    </tr>\n",
              "    <tr>\n",
              "      <th>Psychological</th>\n",
              "      <td>0.377143</td>\n",
              "      <td>0.211429</td>\n",
              "      <td>0.351429</td>\n",
              "      <td>0.877143</td>\n",
              "      <td>1.988571</td>\n",
              "      <td>4.831429</td>\n",
              "      <td>13.894286</td>\n",
              "      <td>27.205714</td>\n",
              "      <td>28.062857</td>\n",
              "      <td>22.188571</td>\n",
              "    </tr>\n",
              "    <tr>\n",
              "      <th>Romance</th>\n",
              "      <td>0.332609</td>\n",
              "      <td>0.176087</td>\n",
              "      <td>0.296739</td>\n",
              "      <td>0.791304</td>\n",
              "      <td>2.115217</td>\n",
              "      <td>5.223913</td>\n",
              "      <td>15.230435</td>\n",
              "      <td>28.083696</td>\n",
              "      <td>26.713043</td>\n",
              "      <td>21.042391</td>\n",
              "    </tr>\n",
              "    <tr>\n",
              "      <th>Samurai</th>\n",
              "      <td>1.442857</td>\n",
              "      <td>0.309524</td>\n",
              "      <td>0.238095</td>\n",
              "      <td>0.561905</td>\n",
              "      <td>1.619048</td>\n",
              "      <td>3.990476</td>\n",
              "      <td>12.119048</td>\n",
              "      <td>23.190476</td>\n",
              "      <td>24.719048</td>\n",
              "      <td>31.809524</td>\n",
              "    </tr>\n",
              "    <tr>\n",
              "      <th>School</th>\n",
              "      <td>0.501190</td>\n",
              "      <td>0.159524</td>\n",
              "      <td>0.269048</td>\n",
              "      <td>0.667857</td>\n",
              "      <td>1.833333</td>\n",
              "      <td>4.639286</td>\n",
              "      <td>14.688095</td>\n",
              "      <td>29.139286</td>\n",
              "      <td>27.577381</td>\n",
              "      <td>20.526190</td>\n",
              "    </tr>\n",
              "    <tr>\n",
              "      <th>Sci-Fi</th>\n",
              "      <td>0.735165</td>\n",
              "      <td>0.236264</td>\n",
              "      <td>0.354945</td>\n",
              "      <td>0.761538</td>\n",
              "      <td>1.919780</td>\n",
              "      <td>4.657143</td>\n",
              "      <td>13.747253</td>\n",
              "      <td>26.603297</td>\n",
              "      <td>26.500000</td>\n",
              "      <td>24.471429</td>\n",
              "    </tr>\n",
              "    <tr>\n",
              "      <th>Seinen</th>\n",
              "      <td>0.456667</td>\n",
              "      <td>0.158333</td>\n",
              "      <td>0.268333</td>\n",
              "      <td>0.648333</td>\n",
              "      <td>1.735000</td>\n",
              "      <td>4.526667</td>\n",
              "      <td>14.615000</td>\n",
              "      <td>29.871667</td>\n",
              "      <td>27.976667</td>\n",
              "      <td>19.746667</td>\n",
              "    </tr>\n",
              "    <tr>\n",
              "      <th>Shoujo</th>\n",
              "      <td>0.393548</td>\n",
              "      <td>0.158065</td>\n",
              "      <td>0.270968</td>\n",
              "      <td>0.725806</td>\n",
              "      <td>2.112903</td>\n",
              "      <td>5.351613</td>\n",
              "      <td>15.648387</td>\n",
              "      <td>27.870968</td>\n",
              "      <td>25.622581</td>\n",
              "      <td>21.864516</td>\n",
              "    </tr>\n",
              "    <tr>\n",
              "      <th>Shounen</th>\n",
              "      <td>0.605128</td>\n",
              "      <td>0.176923</td>\n",
              "      <td>0.282692</td>\n",
              "      <td>0.635256</td>\n",
              "      <td>1.788462</td>\n",
              "      <td>4.579487</td>\n",
              "      <td>14.455128</td>\n",
              "      <td>28.066026</td>\n",
              "      <td>26.623718</td>\n",
              "      <td>22.789103</td>\n",
              "    </tr>\n",
              "    <tr>\n",
              "      <th>Shounen Ai</th>\n",
              "      <td>0.433333</td>\n",
              "      <td>0.233333</td>\n",
              "      <td>0.366667</td>\n",
              "      <td>0.933333</td>\n",
              "      <td>2.633333</td>\n",
              "      <td>6.100000</td>\n",
              "      <td>16.533333</td>\n",
              "      <td>26.900000</td>\n",
              "      <td>24.133333</td>\n",
              "      <td>21.766667</td>\n",
              "    </tr>\n",
              "    <tr>\n",
              "      <th>Slice of Life</th>\n",
              "      <td>0.652688</td>\n",
              "      <td>0.151613</td>\n",
              "      <td>0.269892</td>\n",
              "      <td>0.650538</td>\n",
              "      <td>1.810753</td>\n",
              "      <td>4.554839</td>\n",
              "      <td>14.272043</td>\n",
              "      <td>28.781720</td>\n",
              "      <td>27.667742</td>\n",
              "      <td>21.198925</td>\n",
              "    </tr>\n",
              "    <tr>\n",
              "      <th>Space</th>\n",
              "      <td>0.933333</td>\n",
              "      <td>0.294444</td>\n",
              "      <td>0.511111</td>\n",
              "      <td>0.783333</td>\n",
              "      <td>1.872222</td>\n",
              "      <td>4.472222</td>\n",
              "      <td>14.016667</td>\n",
              "      <td>28.811111</td>\n",
              "      <td>27.466667</td>\n",
              "      <td>20.827778</td>\n",
              "    </tr>\n",
              "    <tr>\n",
              "      <th>Sports</th>\n",
              "      <td>0.906250</td>\n",
              "      <td>0.154167</td>\n",
              "      <td>0.245833</td>\n",
              "      <td>0.522917</td>\n",
              "      <td>1.587500</td>\n",
              "      <td>4.293750</td>\n",
              "      <td>14.514583</td>\n",
              "      <td>29.435417</td>\n",
              "      <td>27.489583</td>\n",
              "      <td>20.837500</td>\n",
              "    </tr>\n",
              "    <tr>\n",
              "      <th>Super Power</th>\n",
              "      <td>0.451351</td>\n",
              "      <td>0.202703</td>\n",
              "      <td>0.329730</td>\n",
              "      <td>0.767568</td>\n",
              "      <td>1.945946</td>\n",
              "      <td>4.821622</td>\n",
              "      <td>14.483784</td>\n",
              "      <td>27.470270</td>\n",
              "      <td>26.291892</td>\n",
              "      <td>23.240541</td>\n",
              "    </tr>\n",
              "    <tr>\n",
              "      <th>Supernatural</th>\n",
              "      <td>0.398165</td>\n",
              "      <td>0.146789</td>\n",
              "      <td>0.261468</td>\n",
              "      <td>0.641284</td>\n",
              "      <td>1.670642</td>\n",
              "      <td>4.393578</td>\n",
              "      <td>13.802752</td>\n",
              "      <td>28.066972</td>\n",
              "      <td>28.171560</td>\n",
              "      <td>22.457798</td>\n",
              "    </tr>\n",
              "    <tr>\n",
              "      <th>Thriller</th>\n",
              "      <td>0.386364</td>\n",
              "      <td>0.209091</td>\n",
              "      <td>0.350000</td>\n",
              "      <td>0.859091</td>\n",
              "      <td>1.927273</td>\n",
              "      <td>4.563636</td>\n",
              "      <td>13.063636</td>\n",
              "      <td>26.454545</td>\n",
              "      <td>28.245455</td>\n",
              "      <td>23.940909</td>\n",
              "    </tr>\n",
              "    <tr>\n",
              "      <th>Vampire</th>\n",
              "      <td>0.530000</td>\n",
              "      <td>0.140000</td>\n",
              "      <td>0.250000</td>\n",
              "      <td>0.530000</td>\n",
              "      <td>1.250000</td>\n",
              "      <td>3.300000</td>\n",
              "      <td>10.920000</td>\n",
              "      <td>25.960000</td>\n",
              "      <td>31.200000</td>\n",
              "      <td>25.920000</td>\n",
              "    </tr>\n",
              "  </tbody>\n",
              "</table>\n",
              "</div>"
            ],
            "text/plain": [
              "               1.percentage  2.percentage  ...  9.percentage  10.percentage\n",
              "index                                      ...                             \n",
              "Action             0.603468      0.195954  ...     26.828324      22.436416\n",
              "Adventure          0.428155      0.163107  ...     26.487379      22.133010\n",
              "Cars               0.283333      0.083333  ...     24.416667      18.066667\n",
              "Comedy             0.519903      0.184951  ...     26.420874      21.588835\n",
              "Dementia           0.500000      0.400000  ...     26.433333      27.766667\n",
              "Demons             0.432000      0.124000  ...     27.008000      22.576000\n",
              "Drama              0.580328      0.187432  ...     27.238798      23.298361\n",
              "Ecchi              0.255556      0.177778  ...     27.333333      17.266667\n",
              "Fantasy            0.442222      0.163333  ...     27.033333      22.944444\n",
              "Game               1.306667      0.133333  ...     28.053333      20.580000\n",
              "Harem              0.150000      0.150000  ...     25.500000      18.100000\n",
              "Historical         0.901754      0.201754  ...     27.029825      26.257895\n",
              "Horror             0.400000      0.220000  ...     28.810000      24.250000\n",
              "Josei              1.507692      0.130769  ...     28.884615      20.130769\n",
              "Kids               0.400000      0.300000  ...     22.400000      18.300000\n",
              "Magic              0.293750      0.159375  ...     27.190625      20.221875\n",
              "Martial Arts       0.375000      0.187500  ...     25.175000      22.837500\n",
              "Mecha              0.526923      0.234615  ...     26.338462      22.134615\n",
              "Military           0.715625      0.265625  ...     27.481250      23.071875\n",
              "Music              0.422222      0.222222  ...     26.233333      22.516667\n",
              "Mystery            0.526190      0.161905  ...     27.360714      22.058333\n",
              "Parody             1.460870      0.308696  ...     24.556522      31.013043\n",
              "Police             0.495000      0.115000  ...     25.240000      20.735000\n",
              "Psychological      0.377143      0.211429  ...     28.062857      22.188571\n",
              "Romance            0.332609      0.176087  ...     26.713043      21.042391\n",
              "Samurai            1.442857      0.309524  ...     24.719048      31.809524\n",
              "School             0.501190      0.159524  ...     27.577381      20.526190\n",
              "Sci-Fi             0.735165      0.236264  ...     26.500000      24.471429\n",
              "Seinen             0.456667      0.158333  ...     27.976667      19.746667\n",
              "Shoujo             0.393548      0.158065  ...     25.622581      21.864516\n",
              "Shounen            0.605128      0.176923  ...     26.623718      22.789103\n",
              "Shounen Ai         0.433333      0.233333  ...     24.133333      21.766667\n",
              "Slice of Life      0.652688      0.151613  ...     27.667742      21.198925\n",
              "Space              0.933333      0.294444  ...     27.466667      20.827778\n",
              "Sports             0.906250      0.154167  ...     27.489583      20.837500\n",
              "Super Power        0.451351      0.202703  ...     26.291892      23.240541\n",
              "Supernatural       0.398165      0.146789  ...     28.171560      22.457798\n",
              "Thriller           0.386364      0.209091  ...     28.245455      23.940909\n",
              "Vampire            0.530000      0.140000  ...     31.200000      25.920000\n",
              "\n",
              "[39 rows x 10 columns]"
            ]
          },
          "metadata": {
            "tags": []
          },
          "execution_count": 141
        }
      ]
    },
    {
      "cell_type": "markdown",
      "metadata": {
        "id": "Oc81k-HUAro0"
      },
      "source": [
        "I made this dataframe earlier, I need to use it again."
      ]
    },
    {
      "cell_type": "code",
      "metadata": {
        "id": "RsUSmsutn35m",
        "colab": {
          "base_uri": "https://localhost:8080/",
          "height": 209
        },
        "outputId": "42959833-dbdd-4b25-cc51-20ea8d05048f"
      },
      "source": [
        "other = pd.Series()\n",
        "\n",
        "for x in df_stats_genres_percent.columns:\n",
        "  other[x] = df_stats_genres_percent[x].mean()\n",
        "\n",
        "other"
      ],
      "execution_count": null,
      "outputs": [
        {
          "output_type": "execute_result",
          "data": {
            "text/plain": [
              "1.percentage      0.591345\n",
              "2.percentage      0.194589\n",
              "3.percentage      0.312425\n",
              "4.percentage      0.733002\n",
              "5.percentage      1.923701\n",
              "6.percentage      4.790679\n",
              "7.percentage     14.450891\n",
              "8.percentage     27.798770\n",
              "9.percentage     26.767058\n",
              "10.percentage    22.433670\n",
              "dtype: float64"
            ]
          },
          "metadata": {
            "tags": []
          },
          "execution_count": 142
        }
      ]
    },
    {
      "cell_type": "markdown",
      "metadata": {
        "id": "EFvD3ziNBCen"
      },
      "source": [
        "I added a row \"other\" representing all the genres, thus the column values are the mean of all the other column values."
      ]
    },
    {
      "cell_type": "code",
      "metadata": {
        "id": "h3_pY4RrBtdk",
        "colab": {
          "base_uri": "https://localhost:8080/",
          "height": 489
        },
        "outputId": "62a0faad-ec11-4a96-97ae-091a862fd308"
      },
      "source": [
        "pd.Series(polar_votes).sort_values(ascending=False)"
      ],
      "execution_count": null,
      "outputs": [
        {
          "output_type": "execute_result",
          "data": {
            "text/plain": [
              "Dementia         5\n",
              "Mecha            4\n",
              "Space            4\n",
              "Music            3\n",
              "Parody           3\n",
              "Psychological    3\n",
              "Game             3\n",
              "Kids             3\n",
              "School           3\n",
              "Samurai          2\n",
              "Magic            2\n",
              "Thriller         2\n",
              "Martial Arts     2\n",
              "Horror           2\n",
              "Shounen Ai       2\n",
              "Military         2\n",
              "Sci-Fi           1\n",
              "Supernatural     1\n",
              "Drama            1\n",
              "Harem            1\n",
              "Romance          1\n",
              "Comedy           1\n",
              "Super Power      1\n",
              "Ecchi            1\n",
              "Josei            1\n",
              "Mystery          1\n",
              "dtype: int64"
            ]
          },
          "metadata": {
            "tags": []
          },
          "execution_count": 143
        }
      ]
    },
    {
      "cell_type": "code",
      "metadata": {
        "id": "toB4rBXFovRI",
        "colab": {
          "base_uri": "https://localhost:8080/",
          "height": 348
        },
        "outputId": "3102ecf7-50c3-4b21-be4e-ac5850a00e44"
      },
      "source": [
        "dif = pd.DataFrame()\n",
        "\n",
        "for x in ['Dementia', 'Game', 'Music', 'Kids', 'Parody', 'Space', 'School', 'Mecha', 'Thriller']:\n",
        "  dif[x] = abs(df_stats_genres_percent.loc[x] - other)\n",
        "\n",
        "dif.transpose()"
      ],
      "execution_count": null,
      "outputs": [
        {
          "output_type": "execute_result",
          "data": {
            "text/html": [
              "<div>\n",
              "<style scoped>\n",
              "    .dataframe tbody tr th:only-of-type {\n",
              "        vertical-align: middle;\n",
              "    }\n",
              "\n",
              "    .dataframe tbody tr th {\n",
              "        vertical-align: top;\n",
              "    }\n",
              "\n",
              "    .dataframe thead th {\n",
              "        text-align: right;\n",
              "    }\n",
              "</style>\n",
              "<table border=\"1\" class=\"dataframe\">\n",
              "  <thead>\n",
              "    <tr style=\"text-align: right;\">\n",
              "      <th></th>\n",
              "      <th>1.percentage</th>\n",
              "      <th>2.percentage</th>\n",
              "      <th>3.percentage</th>\n",
              "      <th>4.percentage</th>\n",
              "      <th>5.percentage</th>\n",
              "      <th>6.percentage</th>\n",
              "      <th>7.percentage</th>\n",
              "      <th>8.percentage</th>\n",
              "      <th>9.percentage</th>\n",
              "      <th>10.percentage</th>\n",
              "    </tr>\n",
              "  </thead>\n",
              "  <tbody>\n",
              "    <tr>\n",
              "      <th>Dementia</th>\n",
              "      <td>0.091345</td>\n",
              "      <td>0.205411</td>\n",
              "      <td>0.187575</td>\n",
              "      <td>0.366998</td>\n",
              "      <td>0.109632</td>\n",
              "      <td>0.042655</td>\n",
              "      <td>1.784225</td>\n",
              "      <td>4.098770</td>\n",
              "      <td>0.333724</td>\n",
              "      <td>5.332996</td>\n",
              "    </tr>\n",
              "    <tr>\n",
              "      <th>Game</th>\n",
              "      <td>0.715322</td>\n",
              "      <td>0.061256</td>\n",
              "      <td>0.025758</td>\n",
              "      <td>0.059669</td>\n",
              "      <td>0.210368</td>\n",
              "      <td>0.297345</td>\n",
              "      <td>0.604225</td>\n",
              "      <td>1.107897</td>\n",
              "      <td>1.286276</td>\n",
              "      <td>1.853670</td>\n",
              "    </tr>\n",
              "    <tr>\n",
              "      <th>Music</th>\n",
              "      <td>0.169123</td>\n",
              "      <td>0.027633</td>\n",
              "      <td>0.043131</td>\n",
              "      <td>0.100331</td>\n",
              "      <td>0.326299</td>\n",
              "      <td>0.437099</td>\n",
              "      <td>0.226886</td>\n",
              "      <td>0.526548</td>\n",
              "      <td>0.533724</td>\n",
              "      <td>0.082996</td>\n",
              "    </tr>\n",
              "    <tr>\n",
              "      <th>Kids</th>\n",
              "      <td>0.191345</td>\n",
              "      <td>0.105411</td>\n",
              "      <td>0.087575</td>\n",
              "      <td>0.066998</td>\n",
              "      <td>0.876299</td>\n",
              "      <td>1.509321</td>\n",
              "      <td>3.149109</td>\n",
              "      <td>2.901230</td>\n",
              "      <td>4.367058</td>\n",
              "      <td>4.133670</td>\n",
              "    </tr>\n",
              "    <tr>\n",
              "      <th>Parody</th>\n",
              "      <td>0.869525</td>\n",
              "      <td>0.114107</td>\n",
              "      <td>0.016773</td>\n",
              "      <td>0.102567</td>\n",
              "      <td>0.223701</td>\n",
              "      <td>0.677635</td>\n",
              "      <td>2.163935</td>\n",
              "      <td>4.150944</td>\n",
              "      <td>2.210536</td>\n",
              "      <td>8.579373</td>\n",
              "    </tr>\n",
              "    <tr>\n",
              "      <th>Space</th>\n",
              "      <td>0.341988</td>\n",
              "      <td>0.099855</td>\n",
              "      <td>0.198686</td>\n",
              "      <td>0.050331</td>\n",
              "      <td>0.051479</td>\n",
              "      <td>0.318457</td>\n",
              "      <td>0.434225</td>\n",
              "      <td>1.012341</td>\n",
              "      <td>0.699609</td>\n",
              "      <td>1.605893</td>\n",
              "    </tr>\n",
              "    <tr>\n",
              "      <th>School</th>\n",
              "      <td>0.090154</td>\n",
              "      <td>0.035065</td>\n",
              "      <td>0.043377</td>\n",
              "      <td>0.065145</td>\n",
              "      <td>0.090368</td>\n",
              "      <td>0.151393</td>\n",
              "      <td>0.237204</td>\n",
              "      <td>1.340516</td>\n",
              "      <td>0.810323</td>\n",
              "      <td>1.907480</td>\n",
              "    </tr>\n",
              "    <tr>\n",
              "      <th>Mecha</th>\n",
              "      <td>0.064422</td>\n",
              "      <td>0.040026</td>\n",
              "      <td>0.156806</td>\n",
              "      <td>0.174690</td>\n",
              "      <td>0.176299</td>\n",
              "      <td>0.255475</td>\n",
              "      <td>0.129878</td>\n",
              "      <td>0.156462</td>\n",
              "      <td>0.428596</td>\n",
              "      <td>0.299055</td>\n",
              "    </tr>\n",
              "    <tr>\n",
              "      <th>Thriller</th>\n",
              "      <td>0.204981</td>\n",
              "      <td>0.014502</td>\n",
              "      <td>0.037575</td>\n",
              "      <td>0.126089</td>\n",
              "      <td>0.003571</td>\n",
              "      <td>0.227042</td>\n",
              "      <td>1.387255</td>\n",
              "      <td>1.344224</td>\n",
              "      <td>1.478397</td>\n",
              "      <td>1.507239</td>\n",
              "    </tr>\n",
              "  </tbody>\n",
              "</table>\n",
              "</div>"
            ],
            "text/plain": [
              "          1.percentage  2.percentage  ...  9.percentage  10.percentage\n",
              "Dementia      0.091345      0.205411  ...      0.333724       5.332996\n",
              "Game          0.715322      0.061256  ...      1.286276       1.853670\n",
              "Music         0.169123      0.027633  ...      0.533724       0.082996\n",
              "Kids          0.191345      0.105411  ...      4.367058       4.133670\n",
              "Parody        0.869525      0.114107  ...      2.210536       8.579373\n",
              "Space         0.341988      0.099855  ...      0.699609       1.605893\n",
              "School        0.090154      0.035065  ...      0.810323       1.907480\n",
              "Mecha         0.064422      0.040026  ...      0.428596       0.299055\n",
              "Thriller      0.204981      0.014502  ...      1.478397       1.507239\n",
              "\n",
              "[9 rows x 10 columns]"
            ]
          },
          "metadata": {
            "tags": []
          },
          "execution_count": 144
        }
      ]
    },
    {
      "cell_type": "markdown",
      "metadata": {
        "id": "i00ISn0KCcZM"
      },
      "source": [
        "**Each row is a genre, each column is the difference of the percentage of users who gave the corresponding score for each genre and the average of the percentage of users who gave the corresponding score. Ie for dementia .09% of users give more or less 1s than the average genre.**"
      ]
    },
    {
      "cell_type": "code",
      "metadata": {
        "id": "aBJMnky1pwwe",
        "colab": {
          "base_uri": "https://localhost:8080/",
          "height": 192
        },
        "outputId": "efae56ef-782b-4326-9fe7-0e3383daf169"
      },
      "source": [
        "pd.Series(dif.sum()).sort_values(ascending=False)"
      ],
      "execution_count": null,
      "outputs": [
        {
          "output_type": "execute_result",
          "data": {
            "text/plain": [
              "Parody      19.109095\n",
              "Kids        17.388016\n",
              "Dementia    12.553331\n",
              "Thriller     6.330876\n",
              "Game         6.221785\n",
              "Space        4.812865\n",
              "School       4.771026\n",
              "Music        2.473770\n",
              "Mecha        1.881709\n",
              "dtype: float64"
            ]
          },
          "metadata": {
            "tags": []
          },
          "execution_count": 145
        }
      ]
    },
    {
      "cell_type": "code",
      "metadata": {
        "id": "vsgj5hNLB-2H"
      },
      "source": [
        "polar_votes['Dementia'] += 1\n",
        "polar_votes['Kids'] += 1\n",
        "polar_votes['Parody'] += 1\n",
        "polar_votes['Game'] += 1\n",
        "polar_votes['Thriller'] += 1"
      ],
      "execution_count": null,
      "outputs": []
    },
    {
      "cell_type": "markdown",
      "metadata": {
        "id": "0tjsqtI-DcaD"
      },
      "source": [
        "**I gave each of these genres polar votes, because it is contraversial to have a high percentage of users giving scores different from the mean.**"
      ]
    },
    {
      "cell_type": "code",
      "metadata": {
        "id": "KCrqpNA5DbIl",
        "colab": {
          "base_uri": "https://localhost:8080/",
          "height": 489
        },
        "outputId": "8d1bb121-9086-45a0-a321-1ebf5cd92e20"
      },
      "source": [
        "pd.Series(polar_votes).sort_values(ascending=False)"
      ],
      "execution_count": null,
      "outputs": [
        {
          "output_type": "execute_result",
          "data": {
            "text/plain": [
              "Dementia         6\n",
              "Game             4\n",
              "Kids             4\n",
              "Space            4\n",
              "Mecha            4\n",
              "Parody           4\n",
              "Psychological    3\n",
              "Thriller         3\n",
              "Music            3\n",
              "School           3\n",
              "Magic            2\n",
              "Samurai          2\n",
              "Martial Arts     2\n",
              "Horror           2\n",
              "Shounen Ai       2\n",
              "Military         2\n",
              "Supernatural     1\n",
              "Sci-Fi           1\n",
              "Drama            1\n",
              "Harem            1\n",
              "Romance          1\n",
              "Comedy           1\n",
              "Super Power      1\n",
              "Ecchi            1\n",
              "Josei            1\n",
              "Mystery          1\n",
              "dtype: int64"
            ]
          },
          "metadata": {
            "tags": []
          },
          "execution_count": 147
        }
      ]
    },
    {
      "cell_type": "markdown",
      "metadata": {
        "id": "dyBaU6iXikt5"
      },
      "source": [
        "**Using my polar_votes dictionary, some genres do seem to cause or at least correlate with polarity. The fact that some genres consistently had patterns in voting and scores by users implies some sort of causation between genre and polarization. I would make the assumption given my observations that anime of the dementia genre cause the most polarity. It is important to understand that my \"polar votes\" is a measurement that I made up. The reality is that some features may have more indication of polarity than others, but there is no numeric or objective measure of polarity.**"
      ]
    },
    {
      "cell_type": "code",
      "metadata": {
        "id": "8ge6vDWexC9u",
        "colab": {
          "base_uri": "https://localhost:8080/",
          "height": 34
        },
        "outputId": "31c5df56-409f-4d8e-c6c5-d48771bde41e"
      },
      "source": [
        "from sklearn.linear_model import LinearRegression\n",
        "from sklearn.neighbors import KNeighborsRegressor\n",
        "from sklearn.pipeline import make_pipeline\n",
        "from sklearn.preprocessing import StandardScaler\n",
        "from sklearn.model_selection import cross_val_score\n",
        "\n",
        "linear_model = pipeline = make_pipeline(\n",
        "    StandardScaler(),\n",
        "    LinearRegression()\n",
        ")\n",
        "\n",
        "knn_model = pipeline = make_pipeline(\n",
        "    StandardScaler(),\n",
        "    KNeighborsRegressor(n_neighbors=3)\n",
        ")\n",
        "\n",
        "from sklearn.ensemble import StackingRegressor\n",
        "\n",
        "X_train = df_data[[\"popularity\", \"score\", \"favorites\", \"scored_by\"]]\n",
        "\n",
        "stacking_model = StackingRegressor([\n",
        "    (\"linear\", linear_model), \n",
        "    (\"knn\", knn_model)],\n",
        "    final_estimator=LinearRegression()\n",
        ")\n",
        "-cross_val_score(stacking_model, X=X_train, y=df_data['members'], cv=10,\n",
        "                 scoring=\"neg_root_mean_squared_error\").mean()\n"
      ],
      "execution_count": null,
      "outputs": [
        {
          "output_type": "execute_result",
          "data": {
            "text/plain": [
              "34996.14076100834"
            ]
          },
          "metadata": {
            "tags": []
          },
          "execution_count": 151
        }
      ]
    },
    {
      "cell_type": "markdown",
      "metadata": {
        "id": "jmaJNrDDxF4Y"
      },
      "source": [
        "**Small portion of ML part.**"
      ]
    },
    {
      "cell_type": "markdown",
      "metadata": {
        "id": "bEDuGLgGFqZt"
      },
      "source": [
        "To recap, the measures of polarity I used are:\n",
        "\n",
        "\n",
        "*   Top five genres with the most helpful votes on top 4 ratings with a score of 1\n",
        "*   Top five genres with the most helpful votes on top 4 ratings with a score of 2\n",
        "*   Top five genres with the most helpful votes on top 4 ratings with a score of 3\n",
        "*   Top five genres with the most helpful votes on top 4 ratings with a score of 4\n",
        "*   Top five genres with the most helpful votes on top 4 ratings with a score of 5\n",
        "\n",
        "*   Top five genres with the highest percentage of users giving a score of 1\n",
        "*   Top five genres with the highest percentage of users giving a score of 2\n",
        "*   Top five genres with the highest percentage of users giving a score of 3\n",
        "*   Top five genres with the highest percentage of users giving a score of 4\n",
        "*   Top five genres with the highest percentage of users giving a score of 5\n",
        "\n",
        "*   Top five genres with the highest percentage of top 4 reviews giving scores 1-5 \n",
        "*   Top five genres with the highest percentage of users giving scores that deviate from the mean scores\n",
        "\n",
        "\n",
        "\n"
      ]
    }
  ]
}